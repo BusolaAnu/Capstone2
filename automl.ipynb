{
 "cells": [
  {
   "cell_type": "markdown",
   "metadata": {},
   "source": [
    "# Automated ML\n",
    "\n",
    "TODO: Import Dependencies. In the cell below, import all the dependencies that you will need to complete the project."
   ]
  },
  {
   "cell_type": "code",
   "execution_count": 4,
   "metadata": {
    "gather": {
     "logged": 1598423888013
    },
    "jupyter": {
     "outputs_hidden": false,
     "source_hidden": false
    },
    "nteract": {
     "transient": {
      "deleting": false
     }
    }
   },
   "outputs": [],
   "source": [
    "from azureml.core import Workspace, Experiment\n",
    "from azureml.data.dataset_factory import TabularDatasetFactory"
   ]
  },
  {
   "cell_type": "code",
   "execution_count": 7,
   "metadata": {},
   "outputs": [],
   "source": [
    "ws = Workspace.from_config()"
   ]
  },
  {
   "cell_type": "markdown",
   "metadata": {},
   "source": [
    "## Dataset\n",
    "\n",
    "### Overview\n",
    "TODO: In this markdown cell, give an overview of the dataset you are using. Also mention the task you will be performing.\n",
    "\n",
    "\n",
    "TODO: Get data. In the cell below, write code to access the data you will be using in this project. Remember that the dataset needs to be external."
   ]
  },
  {
   "cell_type": "code",
   "execution_count": 5,
   "metadata": {},
   "outputs": [],
   "source": [
    "url = 'https://github.com/BusolaAnu/CapstoneProject/raw/main/heart_failure_clinical_records_dataset.csv'\n",
    "df = TabularDatasetFactory.from_delimited_files(url)\n",
    "dataset = df.to_pandas_dataframe()"
   ]
  },
  {
   "cell_type": "code",
   "execution_count": 8,
   "metadata": {},
   "outputs": [],
   "source": [
    "experiment_name = 'CapstoneProject'\n",
    "\n",
    "experiment=Experiment(ws, experiment_name)"
   ]
  },
  {
   "cell_type": "code",
   "execution_count": 9,
   "metadata": {},
   "outputs": [],
   "source": [
    "run = experiment.start_logging()"
   ]
  },
  {
   "cell_type": "code",
   "execution_count": 10,
   "metadata": {},
   "outputs": [
    {
     "name": "stdout",
     "output_type": "stream",
     "text": [
      "Found existing cluster\n",
      "Succeeded\n",
      "AmlCompute wait for completion finished\n",
      "\n",
      "Minimum number of nodes requested have been provisioned\n"
     ]
    }
   ],
   "source": [
    "from azureml.core.compute import ComputeTarget, AmlCompute\n",
    "from azureml.core.compute_target import ComputeTargetException\n",
    "\n",
    "# Choose a name for your CPU cluster\n",
    "cpu_cluster_name = \"UdacityProject\"\n",
    "\n",
    "# Verify that cluster does not exist already\n",
    "try:\n",
    "    cpu_cluster = ComputeTarget(workspace=ws, name=cpu_cluster_name)\n",
    "    print('Found existing cluster')\n",
    "except ComputeTargetException:\n",
    "    compute_config = AmlCompute.provisioning_configuration(vm_size='STANDARD_D2_V2',\n",
    "                                                           max_nodes=4)\n",
    "    cpu_cluster = ComputeTarget.create(ws, cpu_cluster_name, compute_config)\n",
    "\n",
    "cpu_cluster.wait_for_completion(show_output=True)"
   ]
  },
  {
   "cell_type": "code",
   "execution_count": 11,
   "metadata": {},
   "outputs": [
    {
     "data": {
      "text/html": [
       "<div>\n",
       "<style scoped>\n",
       "    .dataframe tbody tr th:only-of-type {\n",
       "        vertical-align: middle;\n",
       "    }\n",
       "\n",
       "    .dataframe tbody tr th {\n",
       "        vertical-align: top;\n",
       "    }\n",
       "\n",
       "    .dataframe thead th {\n",
       "        text-align: right;\n",
       "    }\n",
       "</style>\n",
       "<table border=\"1\" class=\"dataframe\">\n",
       "  <thead>\n",
       "    <tr style=\"text-align: right;\">\n",
       "      <th></th>\n",
       "      <th>age</th>\n",
       "      <th>anaemia</th>\n",
       "      <th>creatinine_phosphokinase</th>\n",
       "      <th>diabetes</th>\n",
       "      <th>ejection_fraction</th>\n",
       "      <th>high_blood_pressure</th>\n",
       "      <th>platelets</th>\n",
       "      <th>serum_creatinine</th>\n",
       "      <th>serum_sodium</th>\n",
       "      <th>sex</th>\n",
       "      <th>smoking</th>\n",
       "      <th>time</th>\n",
       "      <th>DEATH_EVENT</th>\n",
       "    </tr>\n",
       "  </thead>\n",
       "  <tbody>\n",
       "    <tr>\n",
       "      <th>0</th>\n",
       "      <td>75.0</td>\n",
       "      <td>0</td>\n",
       "      <td>582</td>\n",
       "      <td>0</td>\n",
       "      <td>20</td>\n",
       "      <td>1</td>\n",
       "      <td>265000.00</td>\n",
       "      <td>1.9</td>\n",
       "      <td>130</td>\n",
       "      <td>1</td>\n",
       "      <td>0</td>\n",
       "      <td>4</td>\n",
       "      <td>1</td>\n",
       "    </tr>\n",
       "    <tr>\n",
       "      <th>1</th>\n",
       "      <td>55.0</td>\n",
       "      <td>0</td>\n",
       "      <td>7861</td>\n",
       "      <td>0</td>\n",
       "      <td>38</td>\n",
       "      <td>0</td>\n",
       "      <td>263358.03</td>\n",
       "      <td>1.1</td>\n",
       "      <td>136</td>\n",
       "      <td>1</td>\n",
       "      <td>0</td>\n",
       "      <td>6</td>\n",
       "      <td>1</td>\n",
       "    </tr>\n",
       "    <tr>\n",
       "      <th>2</th>\n",
       "      <td>65.0</td>\n",
       "      <td>0</td>\n",
       "      <td>146</td>\n",
       "      <td>0</td>\n",
       "      <td>20</td>\n",
       "      <td>0</td>\n",
       "      <td>162000.00</td>\n",
       "      <td>1.3</td>\n",
       "      <td>129</td>\n",
       "      <td>1</td>\n",
       "      <td>1</td>\n",
       "      <td>7</td>\n",
       "      <td>1</td>\n",
       "    </tr>\n",
       "    <tr>\n",
       "      <th>3</th>\n",
       "      <td>50.0</td>\n",
       "      <td>1</td>\n",
       "      <td>111</td>\n",
       "      <td>0</td>\n",
       "      <td>20</td>\n",
       "      <td>0</td>\n",
       "      <td>210000.00</td>\n",
       "      <td>1.9</td>\n",
       "      <td>137</td>\n",
       "      <td>1</td>\n",
       "      <td>0</td>\n",
       "      <td>7</td>\n",
       "      <td>1</td>\n",
       "    </tr>\n",
       "    <tr>\n",
       "      <th>4</th>\n",
       "      <td>65.0</td>\n",
       "      <td>1</td>\n",
       "      <td>160</td>\n",
       "      <td>1</td>\n",
       "      <td>20</td>\n",
       "      <td>0</td>\n",
       "      <td>327000.00</td>\n",
       "      <td>2.7</td>\n",
       "      <td>116</td>\n",
       "      <td>0</td>\n",
       "      <td>0</td>\n",
       "      <td>8</td>\n",
       "      <td>1</td>\n",
       "    </tr>\n",
       "  </tbody>\n",
       "</table>\n",
       "</div>"
      ],
      "text/plain": [
       "    age  anaemia  creatinine_phosphokinase  diabetes  ejection_fraction  \\\n",
       "0  75.0        0                       582         0                 20   \n",
       "1  55.0        0                      7861         0                 38   \n",
       "2  65.0        0                       146         0                 20   \n",
       "3  50.0        1                       111         0                 20   \n",
       "4  65.0        1                       160         1                 20   \n",
       "\n",
       "   high_blood_pressure  platelets  serum_creatinine  serum_sodium  sex  \\\n",
       "0                    1  265000.00               1.9           130    1   \n",
       "1                    0  263358.03               1.1           136    1   \n",
       "2                    0  162000.00               1.3           129    1   \n",
       "3                    0  210000.00               1.9           137    1   \n",
       "4                    0  327000.00               2.7           116    0   \n",
       "\n",
       "   smoking  time  DEATH_EVENT  \n",
       "0        0     4            1  \n",
       "1        0     6            1  \n",
       "2        1     7            1  \n",
       "3        0     7            1  \n",
       "4        0     8            1  "
      ]
     },
     "execution_count": 11,
     "metadata": {},
     "output_type": "execute_result"
    }
   ],
   "source": [
    "dataset.head()"
   ]
  },
  {
   "cell_type": "code",
   "execution_count": 12,
   "metadata": {},
   "outputs": [
    {
     "data": {
      "text/html": [
       "<div>\n",
       "<style scoped>\n",
       "    .dataframe tbody tr th:only-of-type {\n",
       "        vertical-align: middle;\n",
       "    }\n",
       "\n",
       "    .dataframe tbody tr th {\n",
       "        vertical-align: top;\n",
       "    }\n",
       "\n",
       "    .dataframe thead th {\n",
       "        text-align: right;\n",
       "    }\n",
       "</style>\n",
       "<table border=\"1\" class=\"dataframe\">\n",
       "  <thead>\n",
       "    <tr style=\"text-align: right;\">\n",
       "      <th></th>\n",
       "      <th>age</th>\n",
       "      <th>anaemia</th>\n",
       "      <th>creatinine_phosphokinase</th>\n",
       "      <th>diabetes</th>\n",
       "      <th>ejection_fraction</th>\n",
       "      <th>high_blood_pressure</th>\n",
       "      <th>platelets</th>\n",
       "      <th>serum_creatinine</th>\n",
       "      <th>serum_sodium</th>\n",
       "      <th>sex</th>\n",
       "      <th>smoking</th>\n",
       "      <th>time</th>\n",
       "      <th>DEATH_EVENT</th>\n",
       "    </tr>\n",
       "  </thead>\n",
       "  <tbody>\n",
       "    <tr>\n",
       "      <th>count</th>\n",
       "      <td>299.000000</td>\n",
       "      <td>299.000000</td>\n",
       "      <td>299.000000</td>\n",
       "      <td>299.000000</td>\n",
       "      <td>299.000000</td>\n",
       "      <td>299.000000</td>\n",
       "      <td>299.000000</td>\n",
       "      <td>299.00000</td>\n",
       "      <td>299.000000</td>\n",
       "      <td>299.000000</td>\n",
       "      <td>299.00000</td>\n",
       "      <td>299.000000</td>\n",
       "      <td>299.00000</td>\n",
       "    </tr>\n",
       "    <tr>\n",
       "      <th>mean</th>\n",
       "      <td>60.833893</td>\n",
       "      <td>0.431438</td>\n",
       "      <td>581.839465</td>\n",
       "      <td>0.418060</td>\n",
       "      <td>38.083612</td>\n",
       "      <td>0.351171</td>\n",
       "      <td>263358.029264</td>\n",
       "      <td>1.39388</td>\n",
       "      <td>136.625418</td>\n",
       "      <td>0.648829</td>\n",
       "      <td>0.32107</td>\n",
       "      <td>130.260870</td>\n",
       "      <td>0.32107</td>\n",
       "    </tr>\n",
       "    <tr>\n",
       "      <th>std</th>\n",
       "      <td>11.894809</td>\n",
       "      <td>0.496107</td>\n",
       "      <td>970.287881</td>\n",
       "      <td>0.494067</td>\n",
       "      <td>11.834841</td>\n",
       "      <td>0.478136</td>\n",
       "      <td>97804.236869</td>\n",
       "      <td>1.03451</td>\n",
       "      <td>4.412477</td>\n",
       "      <td>0.478136</td>\n",
       "      <td>0.46767</td>\n",
       "      <td>77.614208</td>\n",
       "      <td>0.46767</td>\n",
       "    </tr>\n",
       "    <tr>\n",
       "      <th>min</th>\n",
       "      <td>40.000000</td>\n",
       "      <td>0.000000</td>\n",
       "      <td>23.000000</td>\n",
       "      <td>0.000000</td>\n",
       "      <td>14.000000</td>\n",
       "      <td>0.000000</td>\n",
       "      <td>25100.000000</td>\n",
       "      <td>0.50000</td>\n",
       "      <td>113.000000</td>\n",
       "      <td>0.000000</td>\n",
       "      <td>0.00000</td>\n",
       "      <td>4.000000</td>\n",
       "      <td>0.00000</td>\n",
       "    </tr>\n",
       "    <tr>\n",
       "      <th>25%</th>\n",
       "      <td>51.000000</td>\n",
       "      <td>0.000000</td>\n",
       "      <td>116.500000</td>\n",
       "      <td>0.000000</td>\n",
       "      <td>30.000000</td>\n",
       "      <td>0.000000</td>\n",
       "      <td>212500.000000</td>\n",
       "      <td>0.90000</td>\n",
       "      <td>134.000000</td>\n",
       "      <td>0.000000</td>\n",
       "      <td>0.00000</td>\n",
       "      <td>73.000000</td>\n",
       "      <td>0.00000</td>\n",
       "    </tr>\n",
       "    <tr>\n",
       "      <th>50%</th>\n",
       "      <td>60.000000</td>\n",
       "      <td>0.000000</td>\n",
       "      <td>250.000000</td>\n",
       "      <td>0.000000</td>\n",
       "      <td>38.000000</td>\n",
       "      <td>0.000000</td>\n",
       "      <td>262000.000000</td>\n",
       "      <td>1.10000</td>\n",
       "      <td>137.000000</td>\n",
       "      <td>1.000000</td>\n",
       "      <td>0.00000</td>\n",
       "      <td>115.000000</td>\n",
       "      <td>0.00000</td>\n",
       "    </tr>\n",
       "    <tr>\n",
       "      <th>75%</th>\n",
       "      <td>70.000000</td>\n",
       "      <td>1.000000</td>\n",
       "      <td>582.000000</td>\n",
       "      <td>1.000000</td>\n",
       "      <td>45.000000</td>\n",
       "      <td>1.000000</td>\n",
       "      <td>303500.000000</td>\n",
       "      <td>1.40000</td>\n",
       "      <td>140.000000</td>\n",
       "      <td>1.000000</td>\n",
       "      <td>1.00000</td>\n",
       "      <td>203.000000</td>\n",
       "      <td>1.00000</td>\n",
       "    </tr>\n",
       "    <tr>\n",
       "      <th>max</th>\n",
       "      <td>95.000000</td>\n",
       "      <td>1.000000</td>\n",
       "      <td>7861.000000</td>\n",
       "      <td>1.000000</td>\n",
       "      <td>80.000000</td>\n",
       "      <td>1.000000</td>\n",
       "      <td>850000.000000</td>\n",
       "      <td>9.40000</td>\n",
       "      <td>148.000000</td>\n",
       "      <td>1.000000</td>\n",
       "      <td>1.00000</td>\n",
       "      <td>285.000000</td>\n",
       "      <td>1.00000</td>\n",
       "    </tr>\n",
       "  </tbody>\n",
       "</table>\n",
       "</div>"
      ],
      "text/plain": [
       "              age     anaemia  creatinine_phosphokinase    diabetes  \\\n",
       "count  299.000000  299.000000                299.000000  299.000000   \n",
       "mean    60.833893    0.431438                581.839465    0.418060   \n",
       "std     11.894809    0.496107                970.287881    0.494067   \n",
       "min     40.000000    0.000000                 23.000000    0.000000   \n",
       "25%     51.000000    0.000000                116.500000    0.000000   \n",
       "50%     60.000000    0.000000                250.000000    0.000000   \n",
       "75%     70.000000    1.000000                582.000000    1.000000   \n",
       "max     95.000000    1.000000               7861.000000    1.000000   \n",
       "\n",
       "       ejection_fraction  high_blood_pressure      platelets  \\\n",
       "count         299.000000           299.000000     299.000000   \n",
       "mean           38.083612             0.351171  263358.029264   \n",
       "std            11.834841             0.478136   97804.236869   \n",
       "min            14.000000             0.000000   25100.000000   \n",
       "25%            30.000000             0.000000  212500.000000   \n",
       "50%            38.000000             0.000000  262000.000000   \n",
       "75%            45.000000             1.000000  303500.000000   \n",
       "max            80.000000             1.000000  850000.000000   \n",
       "\n",
       "       serum_creatinine  serum_sodium         sex    smoking        time  \\\n",
       "count         299.00000    299.000000  299.000000  299.00000  299.000000   \n",
       "mean            1.39388    136.625418    0.648829    0.32107  130.260870   \n",
       "std             1.03451      4.412477    0.478136    0.46767   77.614208   \n",
       "min             0.50000    113.000000    0.000000    0.00000    4.000000   \n",
       "25%             0.90000    134.000000    0.000000    0.00000   73.000000   \n",
       "50%             1.10000    137.000000    1.000000    0.00000  115.000000   \n",
       "75%             1.40000    140.000000    1.000000    1.00000  203.000000   \n",
       "max             9.40000    148.000000    1.000000    1.00000  285.000000   \n",
       "\n",
       "       DEATH_EVENT  \n",
       "count    299.00000  \n",
       "mean       0.32107  \n",
       "std        0.46767  \n",
       "min        0.00000  \n",
       "25%        0.00000  \n",
       "50%        0.00000  \n",
       "75%        1.00000  \n",
       "max        1.00000  "
      ]
     },
     "execution_count": 12,
     "metadata": {},
     "output_type": "execute_result"
    }
   ],
   "source": [
    "dataset.describe()"
   ]
  },
  {
   "cell_type": "markdown",
   "metadata": {},
   "source": [
    "## AutoML Configuration\n",
    "\n",
    "TODO: Explain why you chose the automl settings and cofiguration you used below."
   ]
  },
  {
   "cell_type": "code",
   "execution_count": 13,
   "metadata": {},
   "outputs": [],
   "source": [
    "from sklearn.model_selection import train_test_split\n",
    "\n",
    "train, test = train_test_split(dataset, test_size=0.2, random_state=11)\n",
    "label_column_name = \"DEATH_EVENT\""
   ]
  },
  {
   "cell_type": "code",
   "execution_count": 14,
   "metadata": {
    "gather": {
     "logged": 1598429217746
    },
    "jupyter": {
     "outputs_hidden": false,
     "source_hidden": false
    },
    "nteract": {
     "transient": {
      "deleting": false
     }
    }
   },
   "outputs": [],
   "source": [
    "from azureml.train.automl import AutoMLConfig\n",
    "# TODO: Put your automl settings here\n",
    "automl_settings = {\n",
    "    \"n_cross_validations\": 5,\n",
    "    \"primary_metric\": \"accuracy\",\n",
    "    \"verbosity\": logging.INFO,\n",
    "    \"enable_stack_ensemble\": False,\n",
    "}\n",
    "\n",
    "\n",
    "# TODO: Put your automl config here\n",
    "automl_config = AutoMLConfig(\n",
    "    experiment_timeout_minutes=30,\n",
    "    task=\"classification\",\n",
    "    debug_log=\"automl_errors.log\",\n",
    "    training_data=train,\n",
    "    label_column_name=label_column_name,\n",
    "    **automl_settings)"
   ]
  },
  {
   "cell_type": "code",
   "execution_count": 15,
   "metadata": {
    "gather": {
     "logged": 1598431107951
    },
    "jupyter": {
     "outputs_hidden": false,
     "source_hidden": false
    },
    "nteract": {
     "transient": {
      "deleting": false
     }
    }
   },
   "outputs": [
    {
     "name": "stdout",
     "output_type": "stream",
     "text": [
      "No run_configuration provided, running on local with default configuration\n",
      "Running in the active local environment.\n"
     ]
    },
    {
     "data": {
      "text/html": [
       "<table style=\"width:100%\"><tr><th>Experiment</th><th>Id</th><th>Type</th><th>Status</th><th>Details Page</th><th>Docs Page</th></tr><tr><td>CapstoneProject</td><td>AutoML_c63c88b0-ddbd-4c44-a55b-60f59685204c</td><td>automl</td><td>Preparing</td><td><a href=\"https://ml.azure.com/runs/AutoML_c63c88b0-ddbd-4c44-a55b-60f59685204c?wsid=/subscriptions/9b72f9e6-56c5-4c16-991b-19c652994860/resourcegroups/aml-quickstarts-155638/workspaces/quick-starts-ws-155638&amp;tid=660b3398-b80e-49d2-bc5b-ac1dc93b5254\" target=\"_blank\" rel=\"noopener\">Link to Azure Machine Learning studio</a></td><td><a href=\"https://docs.microsoft.com/en-us/python/api/overview/azure/ml/intro?view=azure-ml-py\" target=\"_blank\" rel=\"noopener\">Link to Documentation</a></td></tr></table>"
      ],
      "text/plain": [
       "<IPython.core.display.HTML object>"
      ]
     },
     "metadata": {},
     "output_type": "display_data"
    },
    {
     "name": "stdout",
     "output_type": "stream",
     "text": [
      "Current status: DatasetEvaluation. Gathering dataset statistics.\n",
      "Current status: FeaturesGeneration. Generating features for the dataset.\n",
      "Current status: DatasetFeaturization. Beginning to fit featurizers and featurize the dataset.\n",
      "Current status: DatasetFeaturizationCompleted. Completed fit featurizers and featurizing the dataset.\n",
      "Current status: DatasetCrossValidationSplit. Generating individually featurized CV splits.\n",
      "\n",
      "****************************************************************************************************\n",
      "DATA GUARDRAILS: \n",
      "\n",
      "TYPE:         Class balancing detection\n",
      "STATUS:       PASSED\n",
      "DESCRIPTION:  Your inputs were analyzed, and all classes are balanced in your training data.\n",
      "              Learn more about imbalanced data: https://aka.ms/AutomatedMLImbalancedData\n",
      "\n",
      "****************************************************************************************************\n",
      "\n",
      "TYPE:         Missing feature values imputation\n",
      "STATUS:       PASSED\n",
      "DESCRIPTION:  No feature missing values were detected in the training data.\n",
      "              Learn more about missing value imputation: https://aka.ms/AutomatedMLFeaturization\n",
      "\n",
      "****************************************************************************************************\n",
      "\n",
      "TYPE:         High cardinality feature detection\n",
      "STATUS:       PASSED\n",
      "DESCRIPTION:  Your inputs were analyzed, and no high cardinality features were detected.\n",
      "              Learn more about high cardinality feature handling: https://aka.ms/AutomatedMLFeaturization\n",
      "\n",
      "****************************************************************************************************\n",
      "Current status: ModelSelection. Beginning model selection.\n",
      "\n",
      "****************************************************************************************************\n",
      "ITERATION: The iteration being evaluated.\n",
      "PIPELINE: A summary description of the pipeline being evaluated.\n",
      "DURATION: Time taken for the current iteration.\n",
      "METRIC: The result of computing score on the fitted pipeline.\n",
      "BEST: The best observed score thus far.\n",
      "****************************************************************************************************\n",
      "\n",
      " ITERATION   PIPELINE                                       DURATION      METRIC      BEST\n",
      "         0   MaxAbsScaler LightGBM                          0:00:22       0.7993    0.7993\n",
      "         1   MaxAbsScaler XGBoostClassifier                 0:00:21       0.8244    0.8244\n",
      "         2   MaxAbsScaler ExtremeRandomTrees                0:00:24       0.8034    0.8244\n",
      "         3   SparseNormalizer XGBoostClassifier             0:00:22       0.7831    0.8244\n",
      "         4   StandardScalerWrapper KNN                      0:00:22       0.5986    0.8244\n",
      "         5   MaxAbsScaler LightGBM                          0:00:21       0.8413    0.8413\n",
      "         6   RobustScaler LogisticRegression                0:00:21       0.7490    0.8413\n",
      "         7   MaxAbsScaler LightGBM                          0:00:21       0.8080    0.8413\n",
      "         8   StandardScalerWrapper KNN                      0:00:21       0.6111    0.8413\n",
      "         9   StandardScalerWrapper SVM                      0:00:21       0.6863    0.8413\n",
      "        10   StandardScalerWrapper XGBoostClassifier        0:00:21       0.8036    0.8413\n",
      "        11   MinMaxScaler RandomForest                      0:00:24       0.8329    0.8413\n",
      "        12   StandardScalerWrapper LogisticRegression       0:00:22       0.7450    0.8413\n",
      "        13   StandardScalerWrapper KNN                      0:00:22       0.7157    0.8413\n",
      "        14   RobustScaler KNN                               0:00:21       0.7282    0.8413\n",
      "        15   MinMaxScaler KNN                               0:00:21       0.6990    0.8413\n",
      "        16   SparseNormalizer KNN                           0:00:22       0.7535    0.8413\n",
      "        17   MaxAbsScaler LogisticRegression                0:00:21       0.8074    0.8413\n",
      "        18   StandardScalerWrapper XGBoostClassifier        0:00:21       0.7746    0.8413\n",
      "        19   StandardScalerWrapper XGBoostClassifier        0:00:21       0.8327    0.8413\n",
      "        20   MaxAbsScaler LogisticRegression                0:00:21       0.7991    0.8413\n",
      "        21   StandardScalerWrapper XGBoostClassifier        0:00:21       0.8538    0.8538\n",
      "        22   RobustScaler RandomForest                      0:00:21       0.8331    0.8538\n",
      "        23   RobustScaler LightGBM                          0:00:22       0.8204    0.8538\n",
      "        24   StandardScalerWrapper XGBoostClassifier        0:00:22       0.8200    0.8538\n",
      "        25   TruncatedSVDWrapper XGBoostClassifier          0:00:22       0.6698    0.8538\n",
      "        26   SparseNormalizer XGBoostClassifier             0:00:22       0.8121    0.8538\n",
      "        27   SparseNormalizer XGBoostClassifier             0:00:23       0.8163    0.8538\n",
      "        28   StandardScalerWrapper XGBoostClassifier        0:00:23       0.8372    0.8538\n",
      "        29   StandardScalerWrapper XGBoostClassifier        0:00:23       0.7909    0.8538\n",
      "        30   StandardScalerWrapper XGBoostClassifier        0:00:23       0.8456    0.8538\n",
      "        31   MinMaxScaler RandomForest                      0:00:26       0.8330    0.8538\n",
      "        32   VotingEnsemble                                 0:00:22       0.8791    0.8791\n",
      "Stopping criteria reached at iteration 33. Ending experiment.\n",
      "****************************************************************************************************\n",
      "Current status: BestRunExplainModel. Best run model explanations started\n",
      "Current status: ModelExplanationDataSetSetup. Model explanations data setup completed\n",
      "Current status: PickSurrogateModel. Choosing LightGBM as the surrogate model for explanations\n",
      "Current status: EngineeredFeatureExplanations. Computation of engineered features started\n",
      "Current status: EngineeredFeatureExplanations. Computation of engineered features completed\n",
      "Current status: RawFeaturesExplanations. Computation of raw features started\n",
      "Current status: RawFeaturesExplanations. Computation of raw features completed\n",
      "Current status: BestRunExplainModel. Best run model explanations completed\n",
      "****************************************************************************************************\n"
     ]
    }
   ],
   "source": [
    "# TODO: Submit your experiment\n",
    "remote_run = experiment.submit(automl_config,show_output = True)"
   ]
  },
  {
   "cell_type": "markdown",
   "metadata": {},
   "source": [
    "## Run Details\n",
    "\n",
    "OPTIONAL: Write about the different models trained and their performance. Why do you think some models did better than others?\n",
    "\n",
    "TODO: In the cell below, use the `RunDetails` widget to show the different experiments."
   ]
  },
  {
   "cell_type": "code",
   "execution_count": 16,
   "metadata": {
    "gather": {
     "logged": 1598431121770
    },
    "jupyter": {
     "outputs_hidden": false,
     "source_hidden": false
    },
    "nteract": {
     "transient": {
      "deleting": false
     }
    }
   },
   "outputs": [
    {
     "data": {
      "application/vnd.jupyter.widget-view+json": {
       "model_id": "2bc781fc04624ec1a8f8562d732571f7",
       "version_major": 2,
       "version_minor": 0
      },
      "text/plain": [
       "_AutoMLWidget(widget_settings={'childWidgetDisplay': 'popup', 'send_telemetry': False, 'log_level': 'INFO', 's…"
      ]
     },
     "metadata": {},
     "output_type": "display_data"
    },
    {
     "data": {
      "application/aml.mini.widget.v1": "{\"status\": \"Completed\", \"workbench_run_details_uri\": \"https://ml.azure.com/runs/AutoML_c63c88b0-ddbd-4c44-a55b-60f59685204c?wsid=/subscriptions/9b72f9e6-56c5-4c16-991b-19c652994860/resourcegroups/aml-quickstarts-155638/workspaces/quick-starts-ws-155638&tid=660b3398-b80e-49d2-bc5b-ac1dc93b5254\", \"run_id\": \"AutoML_c63c88b0-ddbd-4c44-a55b-60f59685204c\", \"run_properties\": {\"run_id\": \"AutoML_c63c88b0-ddbd-4c44-a55b-60f59685204c\", \"created_utc\": \"2021-08-24T16:50:59.95841Z\", \"properties\": {\"num_iterations\": \"1000\", \"training_type\": \"TrainFull\", \"acquisition_function\": \"EI\", \"primary_metric\": \"accuracy\", \"train_split\": \"0\", \"acquisition_parameter\": \"0\", \"num_cross_validation\": \"5\", \"target\": \"local\", \"AMLSettingsJsonString\": \"{\\\"path\\\":null,\\\"name\\\":\\\"CapstoneProject\\\",\\\"subscription_id\\\":\\\"9b72f9e6-56c5-4c16-991b-19c652994860\\\",\\\"resource_group\\\":\\\"aml-quickstarts-155638\\\",\\\"workspace_name\\\":\\\"quick-starts-ws-155638\\\",\\\"region\\\":\\\"southcentralus\\\",\\\"compute_target\\\":\\\"local\\\",\\\"spark_service\\\":null,\\\"azure_service\\\":\\\"Microsoft.AzureNotebookVM\\\",\\\"many_models\\\":false,\\\"pipeline_fetch_max_batch_size\\\":1,\\\"enable_batch_run\\\":false,\\\"enable_run_restructure\\\":false,\\\"start_auxiliary_runs_before_parent_complete\\\":false,\\\"enable_code_generation\\\":false,\\\"iterations\\\":1000,\\\"primary_metric\\\":\\\"accuracy\\\",\\\"task_type\\\":\\\"classification\\\",\\\"data_script\\\":null,\\\"test_size\\\":0.0,\\\"validation_size\\\":0.0,\\\"n_cross_validations\\\":5,\\\"y_min\\\":null,\\\"y_max\\\":null,\\\"num_classes\\\":null,\\\"featurization\\\":\\\"auto\\\",\\\"_ignore_package_version_incompatibilities\\\":false,\\\"is_timeseries\\\":false,\\\"max_cores_per_iteration\\\":1,\\\"max_concurrent_iterations\\\":1,\\\"iteration_timeout_minutes\\\":null,\\\"mem_in_mb\\\":null,\\\"enforce_time_on_windows\\\":false,\\\"experiment_timeout_minutes\\\":30,\\\"experiment_exit_score\\\":null,\\\"whitelist_models\\\":null,\\\"blacklist_algos\\\":[\\\"TensorFlowLinearClassifier\\\",\\\"TensorFlowDNN\\\"],\\\"supported_models\\\":[\\\"SVM\\\",\\\"GradientBoosting\\\",\\\"DecisionTree\\\",\\\"KNN\\\",\\\"AveragedPerceptronClassifier\\\",\\\"TensorFlowDNN\\\",\\\"SGD\\\",\\\"BernoulliNaiveBayes\\\",\\\"LogisticRegression\\\",\\\"RandomForest\\\",\\\"LightGBM\\\",\\\"LinearSVM\\\",\\\"XGBoostClassifier\\\",\\\"ExtremeRandomTrees\\\",\\\"TensorFlowLinearClassifier\\\",\\\"MultinomialNaiveBayes\\\"],\\\"private_models\\\":[],\\\"auto_blacklist\\\":true,\\\"blacklist_samples_reached\\\":false,\\\"exclude_nan_labels\\\":true,\\\"verbosity\\\":20,\\\"_debug_log\\\":\\\"automl_errors.log\\\",\\\"show_warnings\\\":false,\\\"model_explainability\\\":true,\\\"service_url\\\":null,\\\"sdk_url\\\":null,\\\"sdk_packages\\\":null,\\\"enable_onnx_compatible_models\\\":false,\\\"enable_split_onnx_featurizer_estimator_models\\\":false,\\\"vm_type\\\":null,\\\"telemetry_verbosity\\\":20,\\\"send_telemetry\\\":true,\\\"enable_dnn\\\":false,\\\"scenario\\\":\\\"SDK-1.13.0\\\",\\\"environment_label\\\":null,\\\"save_mlflow\\\":false,\\\"force_text_dnn\\\":false,\\\"enable_feature_sweeping\\\":true,\\\"enable_early_stopping\\\":true,\\\"early_stopping_n_iters\\\":10,\\\"metrics\\\":null,\\\"enable_metric_confidence\\\":false,\\\"enable_ensembling\\\":true,\\\"enable_stack_ensembling\\\":false,\\\"ensemble_iterations\\\":15,\\\"enable_tf\\\":false,\\\"enable_subsampling\\\":null,\\\"subsample_seed\\\":null,\\\"enable_nimbusml\\\":false,\\\"enable_streaming\\\":false,\\\"force_streaming\\\":false,\\\"track_child_runs\\\":true,\\\"allowed_private_models\\\":[],\\\"label_column_name\\\":\\\"DEATH_EVENT\\\",\\\"weight_column_name\\\":null,\\\"cv_split_column_names\\\":null,\\\"enable_local_managed\\\":false,\\\"_local_managed_run_id\\\":null,\\\"cost_mode\\\":1,\\\"lag_length\\\":0,\\\"metric_operation\\\":\\\"maximize\\\",\\\"preprocess\\\":true}\", \"DataPrepJsonString\": null, \"EnableSubsampling\": null, \"runTemplate\": \"AutoML\", \"azureml.runsource\": \"automl\", \"display_task_type\": \"classification\", \"dependencies_versions\": \"{\\\"azureml-widgets\\\": \\\"1.33.0\\\", \\\"azureml-train\\\": \\\"1.33.0\\\", \\\"azureml-train-restclients-hyperdrive\\\": \\\"1.33.0\\\", \\\"azureml-train-core\\\": \\\"1.33.0\\\", \\\"azureml-train-automl\\\": \\\"1.33.0\\\", \\\"azureml-train-automl-runtime\\\": \\\"1.33.0\\\", \\\"azureml-train-automl-client\\\": \\\"1.33.0\\\", \\\"azureml-tensorboard\\\": \\\"1.33.0\\\", \\\"azureml-telemetry\\\": \\\"1.33.0\\\", \\\"azureml-sdk\\\": \\\"1.33.0\\\", \\\"azureml-samples\\\": \\\"0+unknown\\\", \\\"azureml-responsibleai\\\": \\\"1.33.0\\\", \\\"azureml-pipeline\\\": \\\"1.33.0\\\", \\\"azureml-pipeline-steps\\\": \\\"1.33.0\\\", \\\"azureml-pipeline-core\\\": \\\"1.33.0\\\", \\\"azureml-opendatasets\\\": \\\"1.33.0\\\", \\\"azureml-mlflow\\\": \\\"1.33.0\\\", \\\"azureml-interpret\\\": \\\"1.33.0\\\", \\\"azureml-explain-model\\\": \\\"1.33.0\\\", \\\"azureml-defaults\\\": \\\"1.33.0\\\", \\\"azureml-dataset-runtime\\\": \\\"1.33.0\\\", \\\"azureml-dataprep\\\": \\\"2.20.1\\\", \\\"azureml-dataprep-rslex\\\": \\\"1.18.0\\\", \\\"azureml-dataprep-native\\\": \\\"38.0.0\\\", \\\"azureml-datadrift\\\": \\\"1.33.0\\\", \\\"azureml-core\\\": \\\"1.33.0\\\", \\\"azureml-contrib-services\\\": \\\"1.33.0\\\", \\\"azureml-contrib-server\\\": \\\"1.33.0\\\", \\\"azureml-contrib-reinforcementlearning\\\": \\\"1.33.0\\\", \\\"azureml-contrib-pipeline-steps\\\": \\\"1.33.0\\\", \\\"azureml-contrib-notebook\\\": \\\"1.33.0\\\", \\\"azureml-contrib-fairness\\\": \\\"1.33.0\\\", \\\"azureml-contrib-dataset\\\": \\\"1.33.0\\\", \\\"azureml-cli-common\\\": \\\"1.33.0\\\", \\\"azureml-automl-runtime\\\": \\\"1.33.0\\\", \\\"azureml-automl-dnn-nlp\\\": \\\"1.33.0\\\", \\\"azureml-automl-core\\\": \\\"1.33.0\\\", \\\"azureml-accel-models\\\": \\\"1.33.0\\\"}\", \"_aml_system_scenario_identification\": \"Local.Parent\", \"ClientSdkVersion\": \"1.33.0\", \"ClientType\": \"SDK\", \"environment_cpu_name\": \"AzureML-AutoML\", \"environment_cpu_label\": \"prod\", \"environment_gpu_name\": \"AzureML-AutoML-GPU\", \"environment_gpu_label\": \"prod\", \"root_attribution\": \"automl\", \"attribution\": \"AutoML\", \"Orchestrator\": \"AutoML\", \"_azureml.ComputeTargetType\": \"local\", \"ProblemInfoJsonString\": \"{\\\"dataset_num_categorical\\\": 0, \\\"is_sparse\\\": false, \\\"subsampling\\\": false, \\\"has_extra_col\\\": true, \\\"dataset_classes\\\": 2, \\\"dataset_features\\\": 12, \\\"dataset_samples\\\": 239, \\\"single_frequency_class_detected\\\": false}\"}, \"tags\": {\"model_explain_run\": \"best_run\", \"best_score\": \"0.8790780141843971\", \"best_pipeline\": \"VotingEnsemble\", \"automl_best_child_run_id\": \"AutoML_c63c88b0-ddbd-4c44-a55b-60f59685204c_32\", \"model_explain_best_run_child_id\": \"AutoML_c63c88b0-ddbd-4c44-a55b-60f59685204c_32\"}, \"end_time_utc\": \"2021-08-24T17:04:27.765622Z\", \"status\": \"Completed\", \"log_files\": {}, \"log_groups\": [], \"run_duration\": \"0:13:27\", \"run_number\": \"2\", \"run_queued_details\": {\"status\": \"Completed\", \"details\": null}}, \"child_runs\": [{\"run_id\": \"AutoML_c63c88b0-ddbd-4c44-a55b-60f59685204c_0\", \"run_number\": 3, \"metric\": null, \"status\": \"Completed\", \"run_type\": null, \"training_percent\": \"100\", \"start_time\": \"2021-08-24T16:51:14.624129Z\", \"end_time\": \"2021-08-24T16:51:37.464809Z\", \"created_time\": \"2021-08-24T16:51:14.507726Z\", \"created_time_dt\": \"2021-08-24T16:51:14.507726Z\", \"duration\": \"0:00:22\", \"iteration\": \"0\", \"goal\": \"accuracy_max\", \"run_name\": \"MaxAbsScaler, LightGBM\", \"run_properties\": \"copy=True\", \"primary_metric\": 0.79929078, \"best_metric\": 0.79929078}, {\"run_id\": \"AutoML_c63c88b0-ddbd-4c44-a55b-60f59685204c_1\", \"run_number\": 4, \"metric\": null, \"status\": \"Completed\", \"run_type\": null, \"training_percent\": \"100\", \"start_time\": \"2021-08-24T16:51:37.830089Z\", \"end_time\": \"2021-08-24T16:51:58.952468Z\", \"created_time\": \"2021-08-24T16:51:37.703587Z\", \"created_time_dt\": \"2021-08-24T16:51:37.703587Z\", \"duration\": \"0:00:21\", \"iteration\": \"1\", \"goal\": \"accuracy_max\", \"run_name\": \"MaxAbsScaler, XGBoostClassifier\", \"run_properties\": \"copy=True\", \"primary_metric\": 0.82437943, \"best_metric\": 0.82437943}, {\"run_id\": \"AutoML_c63c88b0-ddbd-4c44-a55b-60f59685204c_2\", \"run_number\": 5, \"metric\": null, \"status\": \"Completed\", \"run_type\": null, \"training_percent\": \"100\", \"start_time\": \"2021-08-24T16:52:00.015402Z\", \"end_time\": \"2021-08-24T16:52:24.647986Z\", \"created_time\": \"2021-08-24T16:51:59.89942Z\", \"created_time_dt\": \"2021-08-24T16:51:59.89942Z\", \"duration\": \"0:00:24\", \"iteration\": \"2\", \"goal\": \"accuracy_max\", \"run_name\": \"MaxAbsScaler, ExtremeRandomTrees\", \"run_properties\": \"copy=True\", \"primary_metric\": 0.80336879, \"best_metric\": 0.82437943}, {\"run_id\": \"AutoML_c63c88b0-ddbd-4c44-a55b-60f59685204c_3\", \"run_number\": 6, \"metric\": null, \"status\": \"Completed\", \"run_type\": null, \"training_percent\": \"100\", \"start_time\": \"2021-08-24T16:52:26.365706Z\", \"end_time\": \"2021-08-24T16:52:49.083036Z\", \"created_time\": \"2021-08-24T16:52:26.234127Z\", \"created_time_dt\": \"2021-08-24T16:52:26.234127Z\", \"duration\": \"0:00:22\", \"iteration\": \"3\", \"goal\": \"accuracy_max\", \"run_name\": \"SparseNormalizer, XGBoostClassifier\", \"run_properties\": \"copy=True, norm='l2'\", \"primary_metric\": 0.78306738, \"best_metric\": 0.82437943}, {\"run_id\": \"AutoML_c63c88b0-ddbd-4c44-a55b-60f59685204c_4\", \"run_number\": 7, \"metric\": null, \"status\": \"Completed\", \"run_type\": null, \"training_percent\": \"100\", \"start_time\": \"2021-08-24T16:52:50.589638Z\", \"end_time\": \"2021-08-24T16:53:12.723963Z\", \"created_time\": \"2021-08-24T16:52:50.476275Z\", \"created_time_dt\": \"2021-08-24T16:52:50.476275Z\", \"duration\": \"0:00:22\", \"iteration\": \"4\", \"goal\": \"accuracy_max\", \"run_name\": \"StandardScalerWrapper, KNN\", \"run_properties\": \"\\n    copy=True,\\n    with_mean=False,\\n    with_std=False\\n\", \"primary_metric\": 0.59858156, \"best_metric\": 0.82437943}, {\"run_id\": \"AutoML_c63c88b0-ddbd-4c44-a55b-60f59685204c_5\", \"run_number\": 8, \"metric\": null, \"status\": \"Completed\", \"run_type\": null, \"training_percent\": \"100\", \"start_time\": \"2021-08-24T16:53:14.158689Z\", \"end_time\": \"2021-08-24T16:53:35.859103Z\", \"created_time\": \"2021-08-24T16:53:14.039016Z\", \"created_time_dt\": \"2021-08-24T16:53:14.039016Z\", \"duration\": \"0:00:21\", \"iteration\": \"5\", \"goal\": \"accuracy_max\", \"run_name\": \"MaxAbsScaler, LightGBM\", \"run_properties\": \"copy=True\", \"primary_metric\": 0.84131206, \"best_metric\": 0.84131206}, {\"run_id\": \"AutoML_c63c88b0-ddbd-4c44-a55b-60f59685204c_6\", \"run_number\": 9, \"metric\": null, \"status\": \"Completed\", \"run_type\": null, \"training_percent\": \"100\", \"start_time\": \"2021-08-24T16:53:37.277639Z\", \"end_time\": \"2021-08-24T16:53:58.470095Z\", \"created_time\": \"2021-08-24T16:53:37.163242Z\", \"created_time_dt\": \"2021-08-24T16:53:37.163242Z\", \"duration\": \"0:00:21\", \"iteration\": \"6\", \"goal\": \"accuracy_max\", \"run_name\": \"RobustScaler, LogisticRegression\", \"run_properties\": \"copy=True, quantile_range=[10, 90], with_centering=True,\\n             with_scaling=True\", \"primary_metric\": 0.74902482, \"best_metric\": 0.84131206}, {\"run_id\": \"AutoML_c63c88b0-ddbd-4c44-a55b-60f59685204c_7\", \"run_number\": 10, \"metric\": null, \"status\": \"Completed\", \"run_type\": null, \"training_percent\": \"100\", \"start_time\": \"2021-08-24T16:53:59.943962Z\", \"end_time\": \"2021-08-24T16:54:21.696573Z\", \"created_time\": \"2021-08-24T16:53:59.826884Z\", \"created_time_dt\": \"2021-08-24T16:53:59.826884Z\", \"duration\": \"0:00:21\", \"iteration\": \"7\", \"goal\": \"accuracy_max\", \"run_name\": \"MaxAbsScaler, LightGBM\", \"run_properties\": \"copy=True\", \"primary_metric\": 0.80797872, \"best_metric\": 0.84131206}, {\"run_id\": \"AutoML_c63c88b0-ddbd-4c44-a55b-60f59685204c_8\", \"run_number\": 11, \"metric\": null, \"status\": \"Completed\", \"run_type\": null, \"training_percent\": \"100\", \"start_time\": \"2021-08-24T16:54:23.083541Z\", \"end_time\": \"2021-08-24T16:54:44.667781Z\", \"created_time\": \"2021-08-24T16:54:22.975488Z\", \"created_time_dt\": \"2021-08-24T16:54:22.975488Z\", \"duration\": \"0:00:21\", \"iteration\": \"8\", \"goal\": \"accuracy_max\", \"run_name\": \"StandardScalerWrapper, KNN\", \"run_properties\": \"\\n    copy=True,\\n    with_mean=False,\\n    with_std=False\\n\", \"primary_metric\": 0.61108156, \"best_metric\": 0.84131206}, {\"run_id\": \"AutoML_c63c88b0-ddbd-4c44-a55b-60f59685204c_9\", \"run_number\": 12, \"metric\": null, \"status\": \"Completed\", \"run_type\": null, \"training_percent\": \"100\", \"start_time\": \"2021-08-24T16:54:46.174453Z\", \"end_time\": \"2021-08-24T16:55:07.662112Z\", \"created_time\": \"2021-08-24T16:54:46.070341Z\", \"created_time_dt\": \"2021-08-24T16:54:46.070341Z\", \"duration\": \"0:00:21\", \"iteration\": \"9\", \"goal\": \"accuracy_max\", \"run_name\": \"StandardScalerWrapper, SVM\", \"run_properties\": \"\\n    copy=True,\\n    with_mean=True,\\n    with_std=True\\n\", \"primary_metric\": 0.68634752, \"best_metric\": 0.84131206}, {\"run_id\": \"AutoML_c63c88b0-ddbd-4c44-a55b-60f59685204c_10\", \"run_number\": 13, \"metric\": null, \"status\": \"Completed\", \"run_type\": null, \"training_percent\": \"100\", \"start_time\": \"2021-08-24T16:55:10.991573Z\", \"end_time\": \"2021-08-24T16:55:32.7611Z\", \"created_time\": \"2021-08-24T16:55:10.877348Z\", \"created_time_dt\": \"2021-08-24T16:55:10.877348Z\", \"duration\": \"0:00:21\", \"iteration\": \"10\", \"goal\": \"accuracy_max\", \"run_name\": \"StandardScalerWrapper, XGBoostClassifier\", \"run_properties\": \"\\n    copy=True,\\n    with_mean=False,\\n    with_std=False\\n\", \"primary_metric\": 0.80363475, \"best_metric\": 0.84131206}, {\"run_id\": \"AutoML_c63c88b0-ddbd-4c44-a55b-60f59685204c_11\", \"run_number\": 14, \"metric\": null, \"status\": \"Completed\", \"run_type\": null, \"training_percent\": \"100\", \"start_time\": \"2021-08-24T16:55:37.884883Z\", \"end_time\": \"2021-08-24T16:56:01.967306Z\", \"created_time\": \"2021-08-24T16:55:37.758917Z\", \"created_time_dt\": \"2021-08-24T16:55:37.758917Z\", \"duration\": \"0:00:24\", \"iteration\": \"11\", \"goal\": \"accuracy_max\", \"run_name\": \"MinMaxScaler, RandomForest\", \"run_properties\": \"copy=True, feature_range=(0, 1\", \"primary_metric\": 0.83289007, \"best_metric\": 0.84131206}, {\"run_id\": \"AutoML_c63c88b0-ddbd-4c44-a55b-60f59685204c_12\", \"run_number\": 15, \"metric\": null, \"status\": \"Completed\", \"run_type\": null, \"training_percent\": \"100\", \"start_time\": \"2021-08-24T16:56:03.412239Z\", \"end_time\": \"2021-08-24T16:56:25.692903Z\", \"created_time\": \"2021-08-24T16:56:03.291358Z\", \"created_time_dt\": \"2021-08-24T16:56:03.291358Z\", \"duration\": \"0:00:22\", \"iteration\": \"12\", \"goal\": \"accuracy_max\", \"run_name\": \"StandardScalerWrapper, LogisticRegression\", \"run_properties\": \"\\n    copy=True,\\n    with_mean=True,\\n    with_std=False\\n\", \"primary_metric\": 0.74503546, \"best_metric\": 0.84131206}, {\"run_id\": \"AutoML_c63c88b0-ddbd-4c44-a55b-60f59685204c_13\", \"run_number\": 16, \"metric\": null, \"status\": \"Completed\", \"run_type\": null, \"training_percent\": \"100\", \"start_time\": \"2021-08-24T16:56:27.235378Z\", \"end_time\": \"2021-08-24T16:56:49.546751Z\", \"created_time\": \"2021-08-24T16:56:27.11677Z\", \"created_time_dt\": \"2021-08-24T16:56:27.11677Z\", \"duration\": \"0:00:22\", \"iteration\": \"13\", \"goal\": \"accuracy_max\", \"run_name\": \"StandardScalerWrapper, KNN\", \"run_properties\": \"\\n    copy=True,\\n    with_mean=False,\\n    with_std=True\\n\", \"primary_metric\": 0.71569149, \"best_metric\": 0.84131206}, {\"run_id\": \"AutoML_c63c88b0-ddbd-4c44-a55b-60f59685204c_14\", \"run_number\": 17, \"metric\": null, \"status\": \"Completed\", \"run_type\": null, \"training_percent\": \"100\", \"start_time\": \"2021-08-24T16:56:51.02269Z\", \"end_time\": \"2021-08-24T16:57:12.537081Z\", \"created_time\": \"2021-08-24T16:56:50.91149Z\", \"created_time_dt\": \"2021-08-24T16:56:50.91149Z\", \"duration\": \"0:00:21\", \"iteration\": \"14\", \"goal\": \"accuracy_max\", \"run_name\": \"RobustScaler, KNN\", \"run_properties\": \"copy=True, quantile_range=[10, 90], with_centering=False,\\n             with_scaling=True\", \"primary_metric\": 0.72819149, \"best_metric\": 0.84131206}, {\"run_id\": \"AutoML_c63c88b0-ddbd-4c44-a55b-60f59685204c_15\", \"run_number\": 18, \"metric\": null, \"status\": \"Completed\", \"run_type\": null, \"training_percent\": \"100\", \"start_time\": \"2021-08-24T16:57:14.142103Z\", \"end_time\": \"2021-08-24T16:57:35.541057Z\", \"created_time\": \"2021-08-24T16:57:14.009939Z\", \"created_time_dt\": \"2021-08-24T16:57:14.009939Z\", \"duration\": \"0:00:21\", \"iteration\": \"15\", \"goal\": \"accuracy_max\", \"run_name\": \"MinMaxScaler, KNN\", \"run_properties\": \"copy=True, feature_range=(0, 1\", \"primary_metric\": 0.69902482, \"best_metric\": 0.84131206}, {\"run_id\": \"AutoML_c63c88b0-ddbd-4c44-a55b-60f59685204c_16\", \"run_number\": 19, \"metric\": null, \"status\": \"Completed\", \"run_type\": null, \"training_percent\": \"100\", \"start_time\": \"2021-08-24T16:57:36.933782Z\", \"end_time\": \"2021-08-24T16:57:59.095954Z\", \"created_time\": \"2021-08-24T16:57:36.824589Z\", \"created_time_dt\": \"2021-08-24T16:57:36.824589Z\", \"duration\": \"0:00:22\", \"iteration\": \"16\", \"goal\": \"accuracy_max\", \"run_name\": \"SparseNormalizer, KNN\", \"run_properties\": \"copy=True, norm='max'\", \"primary_metric\": 0.75345745, \"best_metric\": 0.84131206}, {\"run_id\": \"AutoML_c63c88b0-ddbd-4c44-a55b-60f59685204c_17\", \"run_number\": 20, \"metric\": null, \"status\": \"Completed\", \"run_type\": null, \"training_percent\": \"100\", \"start_time\": \"2021-08-24T16:58:00.683278Z\", \"end_time\": \"2021-08-24T16:58:22.284999Z\", \"created_time\": \"2021-08-24T16:58:00.563821Z\", \"created_time_dt\": \"2021-08-24T16:58:00.563821Z\", \"duration\": \"0:00:21\", \"iteration\": \"17\", \"goal\": \"accuracy_max\", \"run_name\": \"MaxAbsScaler, LogisticRegression\", \"run_properties\": \"copy=True\", \"primary_metric\": 0.80744681, \"best_metric\": 0.84131206}, {\"run_id\": \"AutoML_c63c88b0-ddbd-4c44-a55b-60f59685204c_18\", \"run_number\": 21, \"metric\": null, \"status\": \"Completed\", \"run_type\": null, \"training_percent\": \"100\", \"start_time\": \"2021-08-24T16:58:23.788359Z\", \"end_time\": \"2021-08-24T16:58:45.400983Z\", \"created_time\": \"2021-08-24T16:58:23.686824Z\", \"created_time_dt\": \"2021-08-24T16:58:23.686824Z\", \"duration\": \"0:00:21\", \"iteration\": \"18\", \"goal\": \"accuracy_max\", \"run_name\": \"StandardScalerWrapper, XGBoostClassifier\", \"run_properties\": \"\\n    copy=True,\\n    with_mean=False,\\n    with_std=False\\n\", \"primary_metric\": 0.77455674, \"best_metric\": 0.84131206}, {\"run_id\": \"AutoML_c63c88b0-ddbd-4c44-a55b-60f59685204c_19\", \"run_number\": 22, \"metric\": null, \"status\": \"Completed\", \"run_type\": null, \"training_percent\": \"100\", \"start_time\": \"2021-08-24T16:58:46.88793Z\", \"end_time\": \"2021-08-24T16:59:08.481625Z\", \"created_time\": \"2021-08-24T16:58:46.729619Z\", \"created_time_dt\": \"2021-08-24T16:58:46.729619Z\", \"duration\": \"0:00:21\", \"iteration\": \"19\", \"goal\": \"accuracy_max\", \"run_name\": \"StandardScalerWrapper, XGBoostClassifier\", \"run_properties\": \"\\n    copy=True,\\n    with_mean=False,\\n    with_std=False\\n\", \"primary_metric\": 0.83271277, \"best_metric\": 0.84131206}, {\"run_id\": \"AutoML_c63c88b0-ddbd-4c44-a55b-60f59685204c_20\", \"run_number\": 23, \"metric\": null, \"status\": \"Completed\", \"run_type\": null, \"training_percent\": \"100\", \"start_time\": \"2021-08-24T16:59:09.881562Z\", \"end_time\": \"2021-08-24T16:59:31.663826Z\", \"created_time\": \"2021-08-24T16:59:09.772529Z\", \"created_time_dt\": \"2021-08-24T16:59:09.772529Z\", \"duration\": \"0:00:21\", \"iteration\": \"20\", \"goal\": \"accuracy_max\", \"run_name\": \"MaxAbsScaler, LogisticRegression\", \"run_properties\": \"copy=True\", \"primary_metric\": 0.79911348, \"best_metric\": 0.84131206}, {\"run_id\": \"AutoML_c63c88b0-ddbd-4c44-a55b-60f59685204c_21\", \"run_number\": 24, \"metric\": null, \"status\": \"Completed\", \"run_type\": null, \"training_percent\": \"100\", \"start_time\": \"2021-08-24T16:59:34.263807Z\", \"end_time\": \"2021-08-24T16:59:55.782282Z\", \"created_time\": \"2021-08-24T16:59:34.145344Z\", \"created_time_dt\": \"2021-08-24T16:59:34.145344Z\", \"duration\": \"0:00:21\", \"iteration\": \"21\", \"goal\": \"accuracy_max\", \"run_name\": \"StandardScalerWrapper, XGBoostClassifier\", \"run_properties\": \"\\n    copy=True,\\n    with_mean=False,\\n    with_std=False\\n\", \"primary_metric\": 0.85381206, \"best_metric\": 0.85381206}, {\"run_id\": \"AutoML_c63c88b0-ddbd-4c44-a55b-60f59685204c_22\", \"run_number\": 25, \"metric\": null, \"status\": \"Completed\", \"run_type\": null, \"training_percent\": \"100\", \"start_time\": \"2021-08-24T16:59:57.108552Z\", \"end_time\": \"2021-08-24T17:00:19.011496Z\", \"created_time\": \"2021-08-24T16:59:56.977177Z\", \"created_time_dt\": \"2021-08-24T16:59:56.977177Z\", \"duration\": \"0:00:22\", \"iteration\": \"22\", \"goal\": \"accuracy_max\", \"run_name\": \"RobustScaler, RandomForest\", \"run_properties\": \"copy=True, quantile_range=[10, 90], with_centering=True,\\n             with_scaling=True\", \"primary_metric\": 0.83306738, \"best_metric\": 0.85381206}, {\"run_id\": \"AutoML_c63c88b0-ddbd-4c44-a55b-60f59685204c_23\", \"run_number\": 26, \"metric\": null, \"status\": \"Completed\", \"run_type\": null, \"training_percent\": \"100\", \"start_time\": \"2021-08-24T17:00:20.404891Z\", \"end_time\": \"2021-08-24T17:00:43.147737Z\", \"created_time\": \"2021-08-24T17:00:20.25494Z\", \"created_time_dt\": \"2021-08-24T17:00:20.25494Z\", \"duration\": \"0:00:22\", \"iteration\": \"23\", \"goal\": \"accuracy_max\", \"run_name\": \"RobustScaler, LightGBM\", \"run_properties\": \"copy=True, quantile_range=[25, 75], with_centering=True,\\n             with_scaling=False\", \"primary_metric\": 0.82039007, \"best_metric\": 0.85381206}, {\"run_id\": \"AutoML_c63c88b0-ddbd-4c44-a55b-60f59685204c_24\", \"run_number\": 27, \"metric\": null, \"status\": \"Completed\", \"run_type\": null, \"training_percent\": \"100\", \"start_time\": \"2021-08-24T17:00:44.47621Z\", \"end_time\": \"2021-08-24T17:01:06.833649Z\", \"created_time\": \"2021-08-24T17:00:44.366176Z\", \"created_time_dt\": \"2021-08-24T17:00:44.366176Z\", \"duration\": \"0:00:22\", \"iteration\": \"24\", \"goal\": \"accuracy_max\", \"run_name\": \"StandardScalerWrapper, XGBoostClassifier\", \"run_properties\": \"\\n    copy=True,\\n    with_mean=False,\\n    with_std=False\\n\", \"primary_metric\": 0.82003546, \"best_metric\": 0.85381206}, {\"run_id\": \"AutoML_c63c88b0-ddbd-4c44-a55b-60f59685204c_25\", \"run_number\": 28, \"metric\": null, \"status\": \"Completed\", \"run_type\": null, \"training_percent\": \"100\", \"start_time\": \"2021-08-24T17:01:09.237463Z\", \"end_time\": \"2021-08-24T17:01:31.883001Z\", \"created_time\": \"2021-08-24T17:01:09.075318Z\", \"created_time_dt\": \"2021-08-24T17:01:09.075318Z\", \"duration\": \"0:00:22\", \"iteration\": \"25\", \"goal\": \"accuracy_max\", \"run_name\": \"TruncatedSVDWrapper, XGBoostClassifier\", \"run_properties\": \"n_components=0.8510526315789474, random_state=None\", \"primary_metric\": 0.6697695, \"best_metric\": 0.85381206}, {\"run_id\": \"AutoML_c63c88b0-ddbd-4c44-a55b-60f59685204c_26\", \"run_number\": 29, \"metric\": null, \"status\": \"Completed\", \"run_type\": null, \"training_percent\": \"100\", \"start_time\": \"2021-08-24T17:01:33.243699Z\", \"end_time\": \"2021-08-24T17:01:55.469184Z\", \"created_time\": \"2021-08-24T17:01:33.129646Z\", \"created_time_dt\": \"2021-08-24T17:01:33.129646Z\", \"duration\": \"0:00:22\", \"iteration\": \"26\", \"goal\": \"accuracy_max\", \"run_name\": \"SparseNormalizer, XGBoostClassifier\", \"run_properties\": \"copy=True, norm='l1'\", \"primary_metric\": 0.81214539, \"best_metric\": 0.85381206}, {\"run_id\": \"AutoML_c63c88b0-ddbd-4c44-a55b-60f59685204c_27\", \"run_number\": 30, \"metric\": null, \"status\": \"Completed\", \"run_type\": null, \"training_percent\": \"100\", \"start_time\": \"2021-08-24T17:01:57.401159Z\", \"end_time\": \"2021-08-24T17:02:21.230552Z\", \"created_time\": \"2021-08-24T17:01:57.291322Z\", \"created_time_dt\": \"2021-08-24T17:01:57.291322Z\", \"duration\": \"0:00:23\", \"iteration\": \"27\", \"goal\": \"accuracy_max\", \"run_name\": \"SparseNormalizer, XGBoostClassifier\", \"run_properties\": \"copy=True, norm='l2'\", \"primary_metric\": 0.81631206, \"best_metric\": 0.85381206}, {\"run_id\": \"AutoML_c63c88b0-ddbd-4c44-a55b-60f59685204c_28\", \"run_number\": 31, \"metric\": null, \"status\": \"Completed\", \"run_type\": null, \"training_percent\": \"100\", \"start_time\": \"2021-08-24T17:02:22.579745Z\", \"end_time\": \"2021-08-24T17:02:46.068301Z\", \"created_time\": \"2021-08-24T17:02:22.475751Z\", \"created_time_dt\": \"2021-08-24T17:02:22.475751Z\", \"duration\": \"0:00:23\", \"iteration\": \"28\", \"goal\": \"accuracy_max\", \"run_name\": \"StandardScalerWrapper, XGBoostClassifier\", \"run_properties\": \"\\n    copy=True,\\n    with_mean=False,\\n    with_std=False\\n\", \"primary_metric\": 0.83723404, \"best_metric\": 0.85381206}, {\"run_id\": \"AutoML_c63c88b0-ddbd-4c44-a55b-60f59685204c_29\", \"run_number\": 32, \"metric\": null, \"status\": \"Completed\", \"run_type\": null, \"training_percent\": \"100\", \"start_time\": \"2021-08-24T17:02:47.52709Z\", \"end_time\": \"2021-08-24T17:03:11.06535Z\", \"created_time\": \"2021-08-24T17:02:47.386545Z\", \"created_time_dt\": \"2021-08-24T17:02:47.386545Z\", \"duration\": \"0:00:23\", \"iteration\": \"29\", \"goal\": \"accuracy_max\", \"run_name\": \"StandardScalerWrapper, XGBoostClassifier\", \"run_properties\": \"\\n    copy=True,\\n    with_mean=False,\\n    with_std=False\\n\", \"primary_metric\": 0.79086879, \"best_metric\": 0.85381206}, {\"run_id\": \"AutoML_c63c88b0-ddbd-4c44-a55b-60f59685204c_30\", \"run_number\": 33, \"metric\": null, \"status\": \"Completed\", \"run_type\": null, \"training_percent\": \"100\", \"start_time\": \"2021-08-24T17:03:13.570469Z\", \"end_time\": \"2021-08-24T17:03:36.670013Z\", \"created_time\": \"2021-08-24T17:03:13.450507Z\", \"created_time_dt\": \"2021-08-24T17:03:13.450507Z\", \"duration\": \"0:00:23\", \"iteration\": \"30\", \"goal\": \"accuracy_max\", \"run_name\": \"StandardScalerWrapper, XGBoostClassifier\", \"run_properties\": \"\\n    copy=True,\\n    with_mean=False,\\n    with_std=False\\n\", \"primary_metric\": 0.84556738, \"best_metric\": 0.85381206}, {\"run_id\": \"AutoML_c63c88b0-ddbd-4c44-a55b-60f59685204c_31\", \"run_number\": 34, \"metric\": null, \"status\": \"Completed\", \"run_type\": null, \"training_percent\": \"100\", \"start_time\": \"2021-08-24T17:03:38.115557Z\", \"end_time\": \"2021-08-24T17:04:04.559216Z\", \"created_time\": \"2021-08-24T17:03:37.992573Z\", \"created_time_dt\": \"2021-08-24T17:03:37.992573Z\", \"duration\": \"0:00:26\", \"iteration\": \"31\", \"goal\": \"accuracy_max\", \"run_name\": \"MinMaxScaler, RandomForest\", \"run_properties\": \"copy=True, feature_range=(0, 1\", \"primary_metric\": 0.83297872, \"best_metric\": 0.85381206}, {\"run_id\": \"AutoML_c63c88b0-ddbd-4c44-a55b-60f59685204c_32\", \"run_number\": 35, \"metric\": null, \"status\": \"Completed\", \"run_type\": null, \"training_percent\": \"100\", \"start_time\": \"2021-08-24T17:04:04.9205Z\", \"end_time\": \"2021-08-24T17:04:27.416701Z\", \"created_time\": \"2021-08-24T17:04:04.809916Z\", \"created_time_dt\": \"2021-08-24T17:04:04.809916Z\", \"duration\": \"0:00:22\", \"iteration\": \"32\", \"goal\": \"accuracy_max\", \"run_name\": \"VotingEnsemble\", \"run_properties\": \"\\n    estimators=[('21', Pipeline(\\n        memory=None,\\n        steps=[('standardscalerwrapper', StandardScalerWrapper(\\n            copy=True,\\n            with_mean=False,\\n            with_std=False\\n        \", \"primary_metric\": 0.87907801, \"best_metric\": 0.87907801}], \"children_metrics\": {\"categories\": [0], \"series\": {\"balanced_accuracy\": [{\"categories\": [\"0\", \"1\", \"2\", \"3\", \"4\", \"5\", \"6\", \"7\", \"8\", \"9\", \"10\", \"11\", \"12\", \"13\", \"14\", \"15\", \"16\", \"17\", \"18\", \"19\", \"20\", \"21\", \"22\", \"23\", \"24\", \"25\", \"26\", \"27\", \"28\", \"29\", \"30\", \"31\", \"32\"], \"mode\": \"markers\", \"name\": \"balanced_accuracy\", \"stepped\": false, \"type\": \"scatter\", \"data\": [0.7646356421356422, 0.7821203102453101, 0.7728391053391054, 0.7275117243867244, 0.5146121933621933, 0.8069209956709956, 0.7289808802308803, 0.7468362193362194, 0.5111246392496394, 0.6075568181818182, 0.7579879148629148, 0.8300324675324676, 0.765712481962482, 0.575501443001443, 0.6511724386724387, 0.5964502164502165, 0.6838014069264069, 0.750254329004329, 0.7198719336219336, 0.7924666305916306, 0.7519110750360751, 0.8192568542568542, 0.8094209956709957, 0.791554834054834, 0.7727696608946608, 0.5, 0.7728932178932179, 0.7810876623376622, 0.7905167748917747, 0.729143217893218, 0.8109145021645021, 0.7890584415584416, 0.8496491702741704]}, {\"categories\": [\"0\", \"1\", \"2\", \"3\", \"4\", \"5\", \"6\", \"7\", \"8\", \"9\", \"10\", \"11\", \"12\", \"13\", \"14\", \"15\", \"16\", \"17\", \"18\", \"19\", \"20\", \"21\", \"22\", \"23\", \"24\", \"25\", \"26\", \"27\", \"28\", \"29\", \"30\", \"31\", \"32\"], \"mode\": \"lines\", \"name\": \"balanced_accuracy_max\", \"stepped\": true, \"type\": \"scatter\", \"data\": [0.7646356421356422, 0.7821203102453101, 0.7821203102453101, 0.7821203102453101, 0.7821203102453101, 0.8069209956709956, 0.8069209956709956, 0.8069209956709956, 0.8069209956709956, 0.8069209956709956, 0.8069209956709956, 0.8300324675324676, 0.8300324675324676, 0.8300324675324676, 0.8300324675324676, 0.8300324675324676, 0.8300324675324676, 0.8300324675324676, 0.8300324675324676, 0.8300324675324676, 0.8300324675324676, 0.8300324675324676, 0.8300324675324676, 0.8300324675324676, 0.8300324675324676, 0.8300324675324676, 0.8300324675324676, 0.8300324675324676, 0.8300324675324676, 0.8300324675324676, 0.8300324675324676, 0.8300324675324676, 0.8496491702741704]}], \"precision_score_macro\": [{\"categories\": [\"0\", \"1\", \"2\", \"3\", \"4\", \"5\", \"6\", \"7\", \"8\", \"9\", \"10\", \"11\", \"12\", \"13\", \"14\", \"15\", \"16\", \"17\", \"18\", \"19\", \"20\", \"21\", \"22\", \"23\", \"24\", \"25\", \"26\", \"27\", \"28\", \"29\", \"30\", \"31\", \"32\"], \"mode\": \"markers\", \"name\": \"precision_score_macro\", \"stepped\": false, \"type\": \"scatter\", \"data\": [0.7738160319410319, 0.8076501860712387, 0.7760488816738816, 0.7729107225392056, 0.518904918610801, 0.8319559607059606, 0.7189856344635757, 0.8098859473859473, 0.5106268720581942, 0.6377652544835206, 0.7836979686979687, 0.8099875650160537, 0.7337728481104161, 0.7862672222732889, 0.691002024291498, 0.6661316169210906, 0.7440394125706243, 0.7910969585969586, 0.7608205743691945, 0.8230589671766142, 0.7800439288674583, 0.8478542752072163, 0.8162727713463008, 0.7984839058000823, 0.8073177723177724, 0.33488475177304966, 0.7979716017951312, 0.8033509546009545, 0.8396679906780526, 0.7739441101670202, 0.8388167147609872, 0.8246484746484747, 0.8800257770846006]}, {\"categories\": [\"0\", \"1\", \"2\", \"3\", \"4\", \"5\", \"6\", \"7\", \"8\", \"9\", \"10\", \"11\", \"12\", \"13\", \"14\", \"15\", \"16\", \"17\", \"18\", \"19\", \"20\", \"21\", \"22\", \"23\", \"24\", \"25\", \"26\", \"27\", \"28\", \"29\", \"30\", \"31\", \"32\"], \"mode\": \"lines\", \"name\": \"precision_score_macro_max\", \"stepped\": true, \"type\": \"scatter\", \"data\": [0.7738160319410319, 0.8076501860712387, 0.8076501860712387, 0.8076501860712387, 0.8076501860712387, 0.8319559607059606, 0.8319559607059606, 0.8319559607059606, 0.8319559607059606, 0.8319559607059606, 0.8319559607059606, 0.8319559607059606, 0.8319559607059606, 0.8319559607059606, 0.8319559607059606, 0.8319559607059606, 0.8319559607059606, 0.8319559607059606, 0.8319559607059606, 0.8319559607059606, 0.8319559607059606, 0.8478542752072163, 0.8478542752072163, 0.8478542752072163, 0.8478542752072163, 0.8478542752072163, 0.8478542752072163, 0.8478542752072163, 0.8478542752072163, 0.8478542752072163, 0.8478542752072163, 0.8478542752072163, 0.8800257770846006]}], \"average_precision_score_weighted\": [{\"categories\": [\"0\", \"1\", \"2\", \"3\", \"4\", \"5\", \"6\", \"7\", \"8\", \"9\", \"10\", \"11\", \"12\", \"13\", \"14\", \"15\", \"16\", \"17\", \"18\", \"19\", \"20\", \"21\", \"22\", \"23\", \"24\", \"25\", \"26\", \"27\", \"28\", \"29\", \"30\", \"31\", \"32\"], \"mode\": \"markers\", \"name\": \"average_precision_score_weighted\", \"stepped\": false, \"type\": \"scatter\", \"data\": [0.889002335110011, 0.9104555789987243, 0.8776775458046885, 0.8618918445268455, 0.5632580886068854, 0.9114185738117465, 0.8487013414706217, 0.9192654973599946, 0.5639113246355087, 0.7710533984727741, 0.8699990528489632, 0.9141216535624592, 0.8731112897917933, 0.8424875585152634, 0.7439530764151101, 0.7317795301723325, 0.8026059183644867, 0.8656506839981368, 0.8850769185160642, 0.8998152292982846, 0.8486577810277243, 0.9042101805122797, 0.8935030806488353, 0.9056324556481924, 0.9018290409677148, 0.5616210986620391, 0.8881735502738353, 0.8870191575834114, 0.9085688979911382, 0.8710970658461805, 0.9197075343480814, 0.8986835212764246, 0.9141537574090188]}, {\"categories\": [\"0\", \"1\", \"2\", \"3\", \"4\", \"5\", \"6\", \"7\", \"8\", \"9\", \"10\", \"11\", \"12\", \"13\", \"14\", \"15\", \"16\", \"17\", \"18\", \"19\", \"20\", \"21\", \"22\", \"23\", \"24\", \"25\", \"26\", \"27\", \"28\", \"29\", \"30\", \"31\", \"32\"], \"mode\": \"lines\", \"name\": \"average_precision_score_weighted_max\", \"stepped\": true, \"type\": \"scatter\", \"data\": [0.889002335110011, 0.9104555789987243, 0.9104555789987243, 0.9104555789987243, 0.9104555789987243, 0.9114185738117465, 0.9114185738117465, 0.9192654973599946, 0.9192654973599946, 0.9192654973599946, 0.9192654973599946, 0.9192654973599946, 0.9192654973599946, 0.9192654973599946, 0.9192654973599946, 0.9192654973599946, 0.9192654973599946, 0.9192654973599946, 0.9192654973599946, 0.9192654973599946, 0.9192654973599946, 0.9192654973599946, 0.9192654973599946, 0.9192654973599946, 0.9192654973599946, 0.9192654973599946, 0.9192654973599946, 0.9192654973599946, 0.9192654973599946, 0.9192654973599946, 0.9197075343480814, 0.9197075343480814, 0.9197075343480814]}], \"weighted_accuracy\": [{\"categories\": [\"0\", \"1\", \"2\", \"3\", \"4\", \"5\", \"6\", \"7\", \"8\", \"9\", \"10\", \"11\", \"12\", \"13\", \"14\", \"15\", \"16\", \"17\", \"18\", \"19\", \"20\", \"21\", \"22\", \"23\", \"24\", \"25\", \"26\", \"27\", \"28\", \"29\", \"30\", \"31\", \"32\"], \"mode\": \"markers\", \"name\": \"weighted_accuracy\", \"stepped\": false, \"type\": \"scatter\", \"data\": [0.8247418456961219, 0.855458746853655, 0.825283338307055, 0.8286348767370504, 0.6605386202130872, 0.8693361866995815, 0.7629242069562648, 0.8565070744569079, 0.6850980387251812, 0.7481247627181595, 0.8395890430579108, 0.8368593566888316, 0.7304032481639904, 0.8223584201184, 0.785648335412094, 0.7776997724252553, 0.8095439057979077, 0.8496790963601185, 0.8200509266916589, 0.864645711602231, 0.8342601559570767, 0.8819852600275429, 0.8533723961782197, 0.8432028781073253, 0.8561166716403884, 0.798833818246672, 0.8446303043466404, 0.8454146180721305, 0.8746891340564164, 0.8372091280251658, 0.8738947478087666, 0.867621095407754, 0.9036270418991416]}, {\"categories\": [\"0\", \"1\", \"2\", \"3\", \"4\", \"5\", \"6\", \"7\", \"8\", \"9\", \"10\", \"11\", \"12\", \"13\", \"14\", \"15\", \"16\", \"17\", \"18\", \"19\", \"20\", \"21\", \"22\", \"23\", \"24\", \"25\", \"26\", \"27\", \"28\", \"29\", \"30\", \"31\", \"32\"], \"mode\": \"lines\", \"name\": \"weighted_accuracy_max\", \"stepped\": true, \"type\": \"scatter\", \"data\": [0.8247418456961219, 0.855458746853655, 0.855458746853655, 0.855458746853655, 0.855458746853655, 0.8693361866995815, 0.8693361866995815, 0.8693361866995815, 0.8693361866995815, 0.8693361866995815, 0.8693361866995815, 0.8693361866995815, 0.8693361866995815, 0.8693361866995815, 0.8693361866995815, 0.8693361866995815, 0.8693361866995815, 0.8693361866995815, 0.8693361866995815, 0.8693361866995815, 0.8693361866995815, 0.8819852600275429, 0.8819852600275429, 0.8819852600275429, 0.8819852600275429, 0.8819852600275429, 0.8819852600275429, 0.8819852600275429, 0.8819852600275429, 0.8819852600275429, 0.8819852600275429, 0.8819852600275429, 0.9036270418991416]}], \"matthews_correlation\": [{\"categories\": [\"0\", \"1\", \"2\", \"3\", \"4\", \"5\", \"6\", \"7\", \"8\", \"9\", \"10\", \"11\", \"12\", \"13\", \"14\", \"15\", \"16\", \"17\", \"18\", \"19\", \"20\", \"21\", \"22\", \"23\", \"24\", \"25\", \"26\", \"27\", \"28\", \"29\", \"30\", \"31\", \"32\"], \"mode\": \"markers\", \"name\": \"matthews_correlation\", \"stepped\": false, \"type\": \"scatter\", \"data\": [0.5380316292663486, 0.5888818379054503, 0.5487950612713949, 0.49619841346477056, 0.03335233679997811, 0.6374571300078216, 0.44778378011711756, 0.5506003556079937, 0.022132271040253025, 0.24236432094907148, 0.5400491309941585, 0.6391593625071554, 0.49802373818155543, 0.2895835604892664, 0.3389043418792696, 0.24835720749556148, 0.41843044800042756, 0.5392622510436051, 0.47547766459602264, 0.6140323394303018, 0.530715471990679, 0.6654871049532263, 0.6248394021590296, 0.589805464549148, 0.5783431991550702, 0.0, 0.5691337976744096, 0.5828897292222177, 0.6257898556195854, 0.5008002969624723, 0.6479275872894908, 0.612223530222591, 0.7281638445971599]}, {\"categories\": [\"0\", \"1\", \"2\", \"3\", \"4\", \"5\", \"6\", \"7\", \"8\", \"9\", \"10\", \"11\", \"12\", \"13\", \"14\", \"15\", \"16\", \"17\", \"18\", \"19\", \"20\", \"21\", \"22\", \"23\", \"24\", \"25\", \"26\", \"27\", \"28\", \"29\", \"30\", \"31\", \"32\"], \"mode\": \"lines\", \"name\": \"matthews_correlation_max\", \"stepped\": true, \"type\": \"scatter\", \"data\": [0.5380316292663486, 0.5888818379054503, 0.5888818379054503, 0.5888818379054503, 0.5888818379054503, 0.6374571300078216, 0.6374571300078216, 0.6374571300078216, 0.6374571300078216, 0.6374571300078216, 0.6374571300078216, 0.6391593625071554, 0.6391593625071554, 0.6391593625071554, 0.6391593625071554, 0.6391593625071554, 0.6391593625071554, 0.6391593625071554, 0.6391593625071554, 0.6391593625071554, 0.6391593625071554, 0.6654871049532263, 0.6654871049532263, 0.6654871049532263, 0.6654871049532263, 0.6654871049532263, 0.6654871049532263, 0.6654871049532263, 0.6654871049532263, 0.6654871049532263, 0.6654871049532263, 0.6654871049532263, 0.7281638445971599]}], \"AUC_macro\": [{\"categories\": [\"0\", \"1\", \"2\", \"3\", \"4\", \"5\", \"6\", \"7\", \"8\", \"9\", \"10\", \"11\", \"12\", \"13\", \"14\", \"15\", \"16\", \"17\", \"18\", \"19\", \"20\", \"21\", \"22\", \"23\", \"24\", \"25\", \"26\", \"27\", \"28\", \"29\", \"30\", \"31\", \"32\"], \"mode\": \"markers\", \"name\": \"AUC_macro\", \"stepped\": false, \"type\": \"scatter\", \"data\": [0.880044642857143, 0.9004091886123137, 0.8638354527417029, 0.8423249233405483, 0.4677227257696007, 0.9071861659752285, 0.8338804713804715, 0.917901222041847, 0.4717509920634921, 0.7490242454304955, 0.8567459941678692, 0.9071219636844636, 0.8596636378667629, 0.8181580687830687, 0.7269447826479076, 0.7036834490740741, 0.776342367123617, 0.8484213789682539, 0.8785625225468976, 0.8903831469456469, 0.833490597943723, 0.9022557983104859, 0.8890489530723906, 0.899036308020683, 0.8912583047739299, 0.5, 0.8796659301346802, 0.8743849957912457, 0.9042762257996632, 0.8606436011904762, 0.9129165163540163, 0.8910929608585858, 0.9104669462481961]}, {\"categories\": [\"0\", \"1\", \"2\", \"3\", \"4\", \"5\", \"6\", \"7\", \"8\", \"9\", \"10\", \"11\", \"12\", \"13\", \"14\", \"15\", \"16\", \"17\", \"18\", \"19\", \"20\", \"21\", \"22\", \"23\", \"24\", \"25\", \"26\", \"27\", \"28\", \"29\", \"30\", \"31\", \"32\"], \"mode\": \"lines\", \"name\": \"AUC_macro_max\", \"stepped\": true, \"type\": \"scatter\", \"data\": [0.880044642857143, 0.9004091886123137, 0.9004091886123137, 0.9004091886123137, 0.9004091886123137, 0.9071861659752285, 0.9071861659752285, 0.917901222041847, 0.917901222041847, 0.917901222041847, 0.917901222041847, 0.917901222041847, 0.917901222041847, 0.917901222041847, 0.917901222041847, 0.917901222041847, 0.917901222041847, 0.917901222041847, 0.917901222041847, 0.917901222041847, 0.917901222041847, 0.917901222041847, 0.917901222041847, 0.917901222041847, 0.917901222041847, 0.917901222041847, 0.917901222041847, 0.917901222041847, 0.917901222041847, 0.917901222041847, 0.917901222041847, 0.917901222041847, 0.917901222041847]}], \"precision_score_micro\": [{\"categories\": [\"0\", \"1\", \"2\", \"3\", \"4\", \"5\", \"6\", \"7\", \"8\", \"9\", \"10\", \"11\", \"12\", \"13\", \"14\", \"15\", \"16\", \"17\", \"18\", \"19\", \"20\", \"21\", \"22\", \"23\", \"24\", \"25\", \"26\", \"27\", \"28\", \"29\", \"30\", \"31\", \"32\"], \"mode\": \"markers\", \"name\": \"precision_score_micro\", \"stepped\": false, \"type\": \"scatter\", \"data\": [0.799290780141844, 0.8243794326241135, 0.8033687943262411, 0.7830673758865248, 0.5985815602836879, 0.8413120567375886, 0.7490248226950355, 0.8079787234042554, 0.611081560283688, 0.6863475177304965, 0.8036347517730495, 0.8328900709219859, 0.7450354609929078, 0.7156914893617021, 0.7281914893617023, 0.6990248226950355, 0.7534574468085106, 0.8074468085106383, 0.7745567375886525, 0.8327127659574469, 0.799113475177305, 0.8538120567375886, 0.8330673758865249, 0.8203900709219857, 0.8200354609929077, 0.6697695035460993, 0.812145390070922, 0.8163120567375886, 0.8372340425531913, 0.7908687943262411, 0.8455673758865249, 0.8329787234042554, 0.8790780141843971]}, {\"categories\": [\"0\", \"1\", \"2\", \"3\", \"4\", \"5\", \"6\", \"7\", \"8\", \"9\", \"10\", \"11\", \"12\", \"13\", \"14\", \"15\", \"16\", \"17\", \"18\", \"19\", \"20\", \"21\", \"22\", \"23\", \"24\", \"25\", \"26\", \"27\", \"28\", \"29\", \"30\", \"31\", \"32\"], \"mode\": \"lines\", \"name\": \"precision_score_micro_max\", \"stepped\": true, \"type\": \"scatter\", \"data\": [0.799290780141844, 0.8243794326241135, 0.8243794326241135, 0.8243794326241135, 0.8243794326241135, 0.8413120567375886, 0.8413120567375886, 0.8413120567375886, 0.8413120567375886, 0.8413120567375886, 0.8413120567375886, 0.8413120567375886, 0.8413120567375886, 0.8413120567375886, 0.8413120567375886, 0.8413120567375886, 0.8413120567375886, 0.8413120567375886, 0.8413120567375886, 0.8413120567375886, 0.8413120567375886, 0.8538120567375886, 0.8538120567375886, 0.8538120567375886, 0.8538120567375886, 0.8538120567375886, 0.8538120567375886, 0.8538120567375886, 0.8538120567375886, 0.8538120567375886, 0.8538120567375886, 0.8538120567375886, 0.8790780141843971]}], \"precision_score_weighted\": [{\"categories\": [\"0\", \"1\", \"2\", \"3\", \"4\", \"5\", \"6\", \"7\", \"8\", \"9\", \"10\", \"11\", \"12\", \"13\", \"14\", \"15\", \"16\", \"17\", \"18\", \"19\", \"20\", \"21\", \"22\", \"23\", \"24\", \"25\", \"26\", \"27\", \"28\", \"29\", \"30\", \"31\", \"32\"], \"mode\": \"markers\", \"name\": \"precision_score_weighted\", \"stepped\": false, \"type\": \"scatter\", \"data\": [0.7992402632927899, 0.8230455167577228, 0.8029406959027969, 0.785167096943001, 0.579021942457487, 0.8432842312829015, 0.7602205461999931, 0.8127202897083217, 0.5734715109539114, 0.6741172883505404, 0.8005653212036192, 0.8422779893047817, 0.7866100435442445, 0.7667253695659779, 0.7171672530970544, 0.6883073051746064, 0.7586446806112683, 0.8052569593527041, 0.7761622015909426, 0.8356560404667415, 0.800157687463695, 0.8562174387197855, 0.8352209180056489, 0.8203057825353273, 0.8220352267160779, 0.45058005287711883, 0.8126490452249213, 0.8191866274977976, 0.8422159676925297, 0.7886782755121468, 0.8481016335617483, 0.8325408629663951, 0.8823078526379527]}, {\"categories\": [\"0\", \"1\", \"2\", \"3\", \"4\", \"5\", \"6\", \"7\", \"8\", \"9\", \"10\", \"11\", \"12\", \"13\", \"14\", \"15\", \"16\", \"17\", \"18\", \"19\", \"20\", \"21\", \"22\", \"23\", \"24\", \"25\", \"26\", \"27\", \"28\", \"29\", \"30\", \"31\", \"32\"], \"mode\": \"lines\", \"name\": \"precision_score_weighted_max\", \"stepped\": true, \"type\": \"scatter\", \"data\": [0.7992402632927899, 0.8230455167577228, 0.8230455167577228, 0.8230455167577228, 0.8230455167577228, 0.8432842312829015, 0.8432842312829015, 0.8432842312829015, 0.8432842312829015, 0.8432842312829015, 0.8432842312829015, 0.8432842312829015, 0.8432842312829015, 0.8432842312829015, 0.8432842312829015, 0.8432842312829015, 0.8432842312829015, 0.8432842312829015, 0.8432842312829015, 0.8432842312829015, 0.8432842312829015, 0.8562174387197855, 0.8562174387197855, 0.8562174387197855, 0.8562174387197855, 0.8562174387197855, 0.8562174387197855, 0.8562174387197855, 0.8562174387197855, 0.8562174387197855, 0.8562174387197855, 0.8562174387197855, 0.8823078526379527]}], \"f1_score_macro\": [{\"categories\": [\"0\", \"1\", \"2\", \"3\", \"4\", \"5\", \"6\", \"7\", \"8\", \"9\", \"10\", \"11\", \"12\", \"13\", \"14\", \"15\", \"16\", \"17\", \"18\", \"19\", \"20\", \"21\", \"22\", \"23\", \"24\", \"25\", \"26\", \"27\", \"28\", \"29\", \"30\", \"31\", \"32\"], \"mode\": \"markers\", \"name\": \"f1_score_macro\", \"stepped\": false, \"type\": \"scatter\", \"data\": [0.7670578925607389, 0.7915393645486443, 0.7736995049507192, 0.7323583393967026, 0.5129102506806491, 0.8131294127317558, 0.721069050951865, 0.7569902984806726, 0.5024149475408056, 0.6056245740925688, 0.763072117291563, 0.8159609257515046, 0.7328378561747552, 0.5459070346932995, 0.6571912501110464, 0.5903181903412617, 0.6838388278388278, 0.7619086797265165, 0.7190454319727975, 0.8005613333801499, 0.7596866263611994, 0.8266019250594059, 0.8087667009363673, 0.7935774209381996, 0.7821949111215089, 0.40069348898617185, 0.7767623884029633, 0.7847429596844868, 0.8005298891249918, 0.7417141044630091, 0.8172087248889494, 0.8000087262516103, 0.8582691789470107]}, {\"categories\": [\"0\", \"1\", \"2\", \"3\", \"4\", \"5\", \"6\", \"7\", \"8\", \"9\", \"10\", \"11\", \"12\", \"13\", \"14\", \"15\", \"16\", \"17\", \"18\", \"19\", \"20\", \"21\", \"22\", \"23\", \"24\", \"25\", \"26\", \"27\", \"28\", \"29\", \"30\", \"31\", \"32\"], \"mode\": \"lines\", \"name\": \"f1_score_macro_max\", \"stepped\": true, \"type\": \"scatter\", \"data\": [0.7670578925607389, 0.7915393645486443, 0.7915393645486443, 0.7915393645486443, 0.7915393645486443, 0.8131294127317558, 0.8131294127317558, 0.8131294127317558, 0.8131294127317558, 0.8131294127317558, 0.8131294127317558, 0.8159609257515046, 0.8159609257515046, 0.8159609257515046, 0.8159609257515046, 0.8159609257515046, 0.8159609257515046, 0.8159609257515046, 0.8159609257515046, 0.8159609257515046, 0.8159609257515046, 0.8266019250594059, 0.8266019250594059, 0.8266019250594059, 0.8266019250594059, 0.8266019250594059, 0.8266019250594059, 0.8266019250594059, 0.8266019250594059, 0.8266019250594059, 0.8266019250594059, 0.8266019250594059, 0.8582691789470107]}], \"recall_score_macro\": [{\"categories\": [\"0\", \"1\", \"2\", \"3\", \"4\", \"5\", \"6\", \"7\", \"8\", \"9\", \"10\", \"11\", \"12\", \"13\", \"14\", \"15\", \"16\", \"17\", \"18\", \"19\", \"20\", \"21\", \"22\", \"23\", \"24\", \"25\", \"26\", \"27\", \"28\", \"29\", \"30\", \"31\", \"32\"], \"mode\": \"markers\", \"name\": \"recall_score_macro\", \"stepped\": false, \"type\": \"scatter\", \"data\": [0.7646356421356422, 0.7821203102453101, 0.7728391053391054, 0.7275117243867244, 0.5146121933621933, 0.8069209956709956, 0.7289808802308803, 0.7468362193362194, 0.5111246392496394, 0.6075568181818182, 0.7579879148629148, 0.8300324675324676, 0.765712481962482, 0.575501443001443, 0.6511724386724387, 0.5964502164502165, 0.6838014069264069, 0.750254329004329, 0.7198719336219336, 0.7924666305916306, 0.7519110750360751, 0.8192568542568542, 0.8094209956709957, 0.791554834054834, 0.7727696608946608, 0.5, 0.7728932178932179, 0.7810876623376622, 0.7905167748917747, 0.729143217893218, 0.8109145021645021, 0.7890584415584416, 0.8496491702741704]}, {\"categories\": [\"0\", \"1\", \"2\", \"3\", \"4\", \"5\", \"6\", \"7\", \"8\", \"9\", \"10\", \"11\", \"12\", \"13\", \"14\", \"15\", \"16\", \"17\", \"18\", \"19\", \"20\", \"21\", \"22\", \"23\", \"24\", \"25\", \"26\", \"27\", \"28\", \"29\", \"30\", \"31\", \"32\"], \"mode\": \"lines\", \"name\": \"recall_score_macro_max\", \"stepped\": true, \"type\": \"scatter\", \"data\": [0.7646356421356422, 0.7821203102453101, 0.7821203102453101, 0.7821203102453101, 0.7821203102453101, 0.8069209956709956, 0.8069209956709956, 0.8069209956709956, 0.8069209956709956, 0.8069209956709956, 0.8069209956709956, 0.8300324675324676, 0.8300324675324676, 0.8300324675324676, 0.8300324675324676, 0.8300324675324676, 0.8300324675324676, 0.8300324675324676, 0.8300324675324676, 0.8300324675324676, 0.8300324675324676, 0.8300324675324676, 0.8300324675324676, 0.8300324675324676, 0.8300324675324676, 0.8300324675324676, 0.8300324675324676, 0.8300324675324676, 0.8300324675324676, 0.8300324675324676, 0.8300324675324676, 0.8300324675324676, 0.8496491702741704]}], \"AUC_weighted\": [{\"categories\": [\"0\", \"1\", \"2\", \"3\", \"4\", \"5\", \"6\", \"7\", \"8\", \"9\", \"10\", \"11\", \"12\", \"13\", \"14\", \"15\", \"16\", \"17\", \"18\", \"19\", \"20\", \"21\", \"22\", \"23\", \"24\", \"25\", \"26\", \"27\", \"28\", \"29\", \"30\", \"31\", \"32\"], \"mode\": \"markers\", \"name\": \"AUC_weighted\", \"stepped\": false, \"type\": \"scatter\", \"data\": [0.8800446428571428, 0.9004091886123137, 0.8638354527417027, 0.8423249233405483, 0.4677227257696008, 0.9071861659752285, 0.8338804713804715, 0.917901222041847, 0.471750992063492, 0.7490242454304955, 0.8567459941678692, 0.9071219636844636, 0.8596636378667629, 0.8181580687830687, 0.7269447826479076, 0.703683449074074, 0.7763423671236171, 0.8484213789682539, 0.8785625225468976, 0.890383146945647, 0.833490597943723, 0.9022557983104859, 0.8890489530723906, 0.899036308020683, 0.8912583047739299, 0.5, 0.8796659301346802, 0.8743849957912457, 0.9042762257996634, 0.8606436011904762, 0.9129165163540163, 0.8910929608585858, 0.9104669462481964]}, {\"categories\": [\"0\", \"1\", \"2\", \"3\", \"4\", \"5\", \"6\", \"7\", \"8\", \"9\", \"10\", \"11\", \"12\", \"13\", \"14\", \"15\", \"16\", \"17\", \"18\", \"19\", \"20\", \"21\", \"22\", \"23\", \"24\", \"25\", \"26\", \"27\", \"28\", \"29\", \"30\", \"31\", \"32\"], \"mode\": \"lines\", \"name\": \"AUC_weighted_max\", \"stepped\": true, \"type\": \"scatter\", \"data\": [0.8800446428571428, 0.9004091886123137, 0.9004091886123137, 0.9004091886123137, 0.9004091886123137, 0.9071861659752285, 0.9071861659752285, 0.917901222041847, 0.917901222041847, 0.917901222041847, 0.917901222041847, 0.917901222041847, 0.917901222041847, 0.917901222041847, 0.917901222041847, 0.917901222041847, 0.917901222041847, 0.917901222041847, 0.917901222041847, 0.917901222041847, 0.917901222041847, 0.917901222041847, 0.917901222041847, 0.917901222041847, 0.917901222041847, 0.917901222041847, 0.917901222041847, 0.917901222041847, 0.917901222041847, 0.917901222041847, 0.917901222041847, 0.917901222041847, 0.917901222041847]}], \"recall_score_micro\": [{\"categories\": [\"0\", \"1\", \"2\", \"3\", \"4\", \"5\", \"6\", \"7\", \"8\", \"9\", \"10\", \"11\", \"12\", \"13\", \"14\", \"15\", \"16\", \"17\", \"18\", \"19\", \"20\", \"21\", \"22\", \"23\", \"24\", \"25\", \"26\", \"27\", \"28\", \"29\", \"30\", \"31\", \"32\"], \"mode\": \"markers\", \"name\": \"recall_score_micro\", \"stepped\": false, \"type\": \"scatter\", \"data\": [0.799290780141844, 0.8243794326241135, 0.8033687943262411, 0.7830673758865248, 0.5985815602836879, 0.8413120567375886, 0.7490248226950355, 0.8079787234042554, 0.611081560283688, 0.6863475177304965, 0.8036347517730495, 0.8328900709219859, 0.7450354609929078, 0.7156914893617021, 0.7281914893617023, 0.6990248226950355, 0.7534574468085106, 0.8074468085106383, 0.7745567375886525, 0.8327127659574469, 0.799113475177305, 0.8538120567375886, 0.8330673758865249, 0.8203900709219857, 0.8200354609929077, 0.6697695035460993, 0.812145390070922, 0.8163120567375886, 0.8372340425531913, 0.7908687943262411, 0.8455673758865249, 0.8329787234042554, 0.8790780141843971]}, {\"categories\": [\"0\", \"1\", \"2\", \"3\", \"4\", \"5\", \"6\", \"7\", \"8\", \"9\", \"10\", \"11\", \"12\", \"13\", \"14\", \"15\", \"16\", \"17\", \"18\", \"19\", \"20\", \"21\", \"22\", \"23\", \"24\", \"25\", \"26\", \"27\", \"28\", \"29\", \"30\", \"31\", \"32\"], \"mode\": \"lines\", \"name\": \"recall_score_micro_max\", \"stepped\": true, \"type\": \"scatter\", \"data\": [0.799290780141844, 0.8243794326241135, 0.8243794326241135, 0.8243794326241135, 0.8243794326241135, 0.8413120567375886, 0.8413120567375886, 0.8413120567375886, 0.8413120567375886, 0.8413120567375886, 0.8413120567375886, 0.8413120567375886, 0.8413120567375886, 0.8413120567375886, 0.8413120567375886, 0.8413120567375886, 0.8413120567375886, 0.8413120567375886, 0.8413120567375886, 0.8413120567375886, 0.8413120567375886, 0.8538120567375886, 0.8538120567375886, 0.8538120567375886, 0.8538120567375886, 0.8538120567375886, 0.8538120567375886, 0.8538120567375886, 0.8538120567375886, 0.8538120567375886, 0.8538120567375886, 0.8538120567375886, 0.8790780141843971]}], \"f1_score_micro\": [{\"categories\": [\"0\", \"1\", \"2\", \"3\", \"4\", \"5\", \"6\", \"7\", \"8\", \"9\", \"10\", \"11\", \"12\", \"13\", \"14\", \"15\", \"16\", \"17\", \"18\", \"19\", \"20\", \"21\", \"22\", \"23\", \"24\", \"25\", \"26\", \"27\", \"28\", \"29\", \"30\", \"31\", \"32\"], \"mode\": \"markers\", \"name\": \"f1_score_micro\", \"stepped\": false, \"type\": \"scatter\", \"data\": [0.799290780141844, 0.8243794326241133, 0.8033687943262411, 0.7830673758865248, 0.5985815602836879, 0.8413120567375886, 0.7490248226950353, 0.8079787234042554, 0.611081560283688, 0.6863475177304965, 0.8036347517730495, 0.8328900709219859, 0.7450354609929077, 0.7156914893617021, 0.7281914893617021, 0.6990248226950355, 0.7534574468085106, 0.8074468085106383, 0.7745567375886525, 0.8327127659574469, 0.799113475177305, 0.8538120567375886, 0.8330673758865249, 0.8203900709219857, 0.8200354609929077, 0.6697695035460993, 0.812145390070922, 0.8163120567375886, 0.8372340425531913, 0.7908687943262411, 0.8455673758865249, 0.8329787234042554, 0.8790780141843971]}, {\"categories\": [\"0\", \"1\", \"2\", \"3\", \"4\", \"5\", \"6\", \"7\", \"8\", \"9\", \"10\", \"11\", \"12\", \"13\", \"14\", \"15\", \"16\", \"17\", \"18\", \"19\", \"20\", \"21\", \"22\", \"23\", \"24\", \"25\", \"26\", \"27\", \"28\", \"29\", \"30\", \"31\", \"32\"], \"mode\": \"lines\", \"name\": \"f1_score_micro_max\", \"stepped\": true, \"type\": \"scatter\", \"data\": [0.799290780141844, 0.8243794326241133, 0.8243794326241133, 0.8243794326241133, 0.8243794326241133, 0.8413120567375886, 0.8413120567375886, 0.8413120567375886, 0.8413120567375886, 0.8413120567375886, 0.8413120567375886, 0.8413120567375886, 0.8413120567375886, 0.8413120567375886, 0.8413120567375886, 0.8413120567375886, 0.8413120567375886, 0.8413120567375886, 0.8413120567375886, 0.8413120567375886, 0.8413120567375886, 0.8538120567375886, 0.8538120567375886, 0.8538120567375886, 0.8538120567375886, 0.8538120567375886, 0.8538120567375886, 0.8538120567375886, 0.8538120567375886, 0.8538120567375886, 0.8538120567375886, 0.8538120567375886, 0.8790780141843971]}], \"norm_macro_recall\": [{\"categories\": [\"0\", \"1\", \"2\", \"3\", \"4\", \"5\", \"6\", \"7\", \"8\", \"9\", \"10\", \"11\", \"12\", \"13\", \"14\", \"15\", \"16\", \"17\", \"18\", \"19\", \"20\", \"21\", \"22\", \"23\", \"24\", \"25\", \"26\", \"27\", \"28\", \"29\", \"30\", \"31\", \"32\"], \"mode\": \"markers\", \"name\": \"norm_macro_recall\", \"stepped\": false, \"type\": \"scatter\", \"data\": [0.5292712842712842, 0.5642406204906204, 0.5456782106782108, 0.4550234487734488, 0.06888888888888892, 0.6138419913419912, 0.45796176046176046, 0.4936724386724386, 0.0404040404040404, 0.2151136363636364, 0.5159758297258297, 0.6600649350649351, 0.531424963924964, 0.15100288600288597, 0.30234487734487736, 0.19290043290043296, 0.3676028138528139, 0.500508658008658, 0.4397438672438672, 0.5849332611832613, 0.50382215007215, 0.6385137085137085, 0.6188419913419912, 0.5831096681096681, 0.5455393217893217, 0.0, 0.5457864357864357, 0.5621753246753247, 0.5810335497835497, 0.45828643578643574, 0.6218290043290043, 0.578116883116883, 0.6992983405483406]}, {\"categories\": [\"0\", \"1\", \"2\", \"3\", \"4\", \"5\", \"6\", \"7\", \"8\", \"9\", \"10\", \"11\", \"12\", \"13\", \"14\", \"15\", \"16\", \"17\", \"18\", \"19\", \"20\", \"21\", \"22\", \"23\", \"24\", \"25\", \"26\", \"27\", \"28\", \"29\", \"30\", \"31\", \"32\"], \"mode\": \"lines\", \"name\": \"norm_macro_recall_max\", \"stepped\": true, \"type\": \"scatter\", \"data\": [0.5292712842712842, 0.5642406204906204, 0.5642406204906204, 0.5642406204906204, 0.5642406204906204, 0.6138419913419912, 0.6138419913419912, 0.6138419913419912, 0.6138419913419912, 0.6138419913419912, 0.6138419913419912, 0.6600649350649351, 0.6600649350649351, 0.6600649350649351, 0.6600649350649351, 0.6600649350649351, 0.6600649350649351, 0.6600649350649351, 0.6600649350649351, 0.6600649350649351, 0.6600649350649351, 0.6600649350649351, 0.6600649350649351, 0.6600649350649351, 0.6600649350649351, 0.6600649350649351, 0.6600649350649351, 0.6600649350649351, 0.6600649350649351, 0.6600649350649351, 0.6600649350649351, 0.6600649350649351, 0.6992983405483406]}], \"log_loss\": [{\"categories\": [\"0\", \"1\", \"2\", \"3\", \"4\", \"5\", \"6\", \"7\", \"8\", \"9\", \"10\", \"11\", \"12\", \"13\", \"14\", \"15\", \"16\", \"17\", \"18\", \"19\", \"20\", \"21\", \"22\", \"23\", \"24\", \"25\", \"26\", \"27\", \"28\", \"29\", \"30\", \"31\", \"32\"], \"mode\": \"markers\", \"name\": \"log_loss\", \"stepped\": false, \"type\": \"scatter\", \"data\": [0.48094789554284045, 0.40389855060619545, 0.5360837153657968, 0.5303209020711859, 2.4311285041548034, 0.3974483993846733, 0.49259914843458324, 0.4719181385280956, 1.6081392207763472, 0.5645140829102605, 0.5120495625855114, 0.47072502670061916, 0.5007745245959722, 0.5215392347978999, 2.5536995871279453, 1.2551332100178136, 0.6593748217993888, 0.44628732500885865, 0.5274110625640983, 0.5019832837904931, 0.46775716431079867, 0.46664425086547523, 0.6600896314386053, 0.39566332666592763, 0.4372609866254645, 0.6444014690020983, 0.4403974472939434, 0.42224742572618934, 0.4017826281607439, 0.5070343326870178, 0.4062667687044782, 0.3917527524899481, 0.3960727498525687]}, {\"categories\": [\"0\", \"1\", \"2\", \"3\", \"4\", \"5\", \"6\", \"7\", \"8\", \"9\", \"10\", \"11\", \"12\", \"13\", \"14\", \"15\", \"16\", \"17\", \"18\", \"19\", \"20\", \"21\", \"22\", \"23\", \"24\", \"25\", \"26\", \"27\", \"28\", \"29\", \"30\", \"31\", \"32\"], \"mode\": \"lines\", \"name\": \"log_loss_min\", \"stepped\": true, \"type\": \"scatter\", \"data\": [0.48094789554284045, 0.40389855060619545, 0.40389855060619545, 0.40389855060619545, 0.40389855060619545, 0.3974483993846733, 0.3974483993846733, 0.3974483993846733, 0.3974483993846733, 0.3974483993846733, 0.3974483993846733, 0.3974483993846733, 0.3974483993846733, 0.3974483993846733, 0.3974483993846733, 0.3974483993846733, 0.3974483993846733, 0.3974483993846733, 0.3974483993846733, 0.3974483993846733, 0.3974483993846733, 0.3974483993846733, 0.3974483993846733, 0.39566332666592763, 0.39566332666592763, 0.39566332666592763, 0.39566332666592763, 0.39566332666592763, 0.39566332666592763, 0.39566332666592763, 0.39566332666592763, 0.3917527524899481, 0.3917527524899481]}], \"AUC_micro\": [{\"categories\": [\"0\", \"1\", \"2\", \"3\", \"4\", \"5\", \"6\", \"7\", \"8\", \"9\", \"10\", \"11\", \"12\", \"13\", \"14\", \"15\", \"16\", \"17\", \"18\", \"19\", \"20\", \"21\", \"22\", \"23\", \"24\", \"25\", \"26\", \"27\", \"28\", \"29\", \"30\", \"31\", \"32\"], \"mode\": \"markers\", \"name\": \"AUC_micro\", \"stepped\": false, \"type\": \"scatter\", \"data\": [0.893122830843519, 0.9108161922815754, 0.8772355672501384, 0.8618476026105327, 0.5946164837030331, 0.9119931954504301, 0.8481818774835268, 0.8955309482043157, 0.6162861211709674, 0.7836210216412656, 0.8701473375961974, 0.91093942551934, 0.8353206264775412, 0.8213542845556059, 0.7840960747698806, 0.7604373758236508, 0.8198207066420199, 0.8713187999849101, 0.8775472656053518, 0.897698297054977, 0.8636724447965394, 0.909887463218651, 0.8986288730446154, 0.9045241845229114, 0.8980277966400081, 0.6697695035460993, 0.8895096527463406, 0.8909162642724209, 0.9087739235953926, 0.8773764838287812, 0.9146384267642473, 0.9045773917307983, 0.9165630815854333]}, {\"categories\": [\"0\", \"1\", \"2\", \"3\", \"4\", \"5\", \"6\", \"7\", \"8\", \"9\", \"10\", \"11\", \"12\", \"13\", \"14\", \"15\", \"16\", \"17\", \"18\", \"19\", \"20\", \"21\", \"22\", \"23\", \"24\", \"25\", \"26\", \"27\", \"28\", \"29\", \"30\", \"31\", \"32\"], \"mode\": \"lines\", \"name\": \"AUC_micro_max\", \"stepped\": true, \"type\": \"scatter\", \"data\": [0.893122830843519, 0.9108161922815754, 0.9108161922815754, 0.9108161922815754, 0.9108161922815754, 0.9119931954504301, 0.9119931954504301, 0.9119931954504301, 0.9119931954504301, 0.9119931954504301, 0.9119931954504301, 0.9119931954504301, 0.9119931954504301, 0.9119931954504301, 0.9119931954504301, 0.9119931954504301, 0.9119931954504301, 0.9119931954504301, 0.9119931954504301, 0.9119931954504301, 0.9119931954504301, 0.9119931954504301, 0.9119931954504301, 0.9119931954504301, 0.9119931954504301, 0.9119931954504301, 0.9119931954504301, 0.9119931954504301, 0.9119931954504301, 0.9119931954504301, 0.9146384267642473, 0.9146384267642473, 0.9165630815854333]}], \"average_precision_score_micro\": [{\"categories\": [\"0\", \"1\", \"2\", \"3\", \"4\", \"5\", \"6\", \"7\", \"8\", \"9\", \"10\", \"11\", \"12\", \"13\", \"14\", \"15\", \"16\", \"17\", \"18\", \"19\", \"20\", \"21\", \"22\", \"23\", \"24\", \"25\", \"26\", \"27\", \"28\", \"29\", \"30\", \"31\", \"32\"], \"mode\": \"markers\", \"name\": \"average_precision_score_micro\", \"stepped\": false, \"type\": \"scatter\", \"data\": [0.8982130318457161, 0.9158674580511432, 0.8800416558236309, 0.8667873055620184, 0.5745858400210413, 0.9136322237253994, 0.8474777997577265, 0.8972671350868898, 0.5882399131918642, 0.7859068020126977, 0.8743314268131014, 0.9120866406245028, 0.8344193373688322, 0.8275141665193854, 0.7623532811744951, 0.7572354371331624, 0.8086726772281022, 0.8742322938842004, 0.8814051557898746, 0.8993922445863308, 0.8639177171364754, 0.9060078342822239, 0.8919879883417188, 0.9089399134458868, 0.8979647162238544, 0.6156953011040691, 0.892181106987703, 0.8931769193764294, 0.9082019557730658, 0.8716270930842093, 0.9179226877491565, 0.9053810111117944, 0.9194086417081188]}, {\"categories\": [\"0\", \"1\", \"2\", \"3\", \"4\", \"5\", \"6\", \"7\", \"8\", \"9\", \"10\", \"11\", \"12\", \"13\", \"14\", \"15\", \"16\", \"17\", \"18\", \"19\", \"20\", \"21\", \"22\", \"23\", \"24\", \"25\", \"26\", \"27\", \"28\", \"29\", \"30\", \"31\", \"32\"], \"mode\": \"lines\", \"name\": \"average_precision_score_micro_max\", \"stepped\": true, \"type\": \"scatter\", \"data\": [0.8982130318457161, 0.9158674580511432, 0.9158674580511432, 0.9158674580511432, 0.9158674580511432, 0.9158674580511432, 0.9158674580511432, 0.9158674580511432, 0.9158674580511432, 0.9158674580511432, 0.9158674580511432, 0.9158674580511432, 0.9158674580511432, 0.9158674580511432, 0.9158674580511432, 0.9158674580511432, 0.9158674580511432, 0.9158674580511432, 0.9158674580511432, 0.9158674580511432, 0.9158674580511432, 0.9158674580511432, 0.9158674580511432, 0.9158674580511432, 0.9158674580511432, 0.9158674580511432, 0.9158674580511432, 0.9158674580511432, 0.9158674580511432, 0.9158674580511432, 0.9179226877491565, 0.9179226877491565, 0.9194086417081188]}], \"f1_score_weighted\": [{\"categories\": [\"0\", \"1\", \"2\", \"3\", \"4\", \"5\", \"6\", \"7\", \"8\", \"9\", \"10\", \"11\", \"12\", \"13\", \"14\", \"15\", \"16\", \"17\", \"18\", \"19\", \"20\", \"21\", \"22\", \"23\", \"24\", \"25\", \"26\", \"27\", \"28\", \"29\", \"30\", \"31\", \"32\"], \"mode\": \"markers\", \"name\": \"f1_score_weighted\", \"stepped\": false, \"type\": \"scatter\", \"data\": [0.7975746987299736, 0.8212145300306843, 0.8025198990114806, 0.7693650556453517, 0.585560791759417, 0.8372639293136427, 0.7520502262977421, 0.793582850546471, 0.5850641592062791, 0.6660099517709819, 0.7958053468652713, 0.8346782408264973, 0.7515175748971787, 0.64177380187003, 0.7119564536279803, 0.6624142211059175, 0.7325306404067355, 0.799470305206104, 0.758144256381224, 0.8281969004796137, 0.7944197183199313, 0.849523631049834, 0.8309371556368153, 0.81913036447996, 0.8145236816205556, 0.5381520291198547, 0.8052344097767863, 0.8115936792600907, 0.8285538448185237, 0.7819263359348531, 0.8406661660979348, 0.8272241174788715, 0.8753803023840998]}, {\"categories\": [\"0\", \"1\", \"2\", \"3\", \"4\", \"5\", \"6\", \"7\", \"8\", \"9\", \"10\", \"11\", \"12\", \"13\", \"14\", \"15\", \"16\", \"17\", \"18\", \"19\", \"20\", \"21\", \"22\", \"23\", \"24\", \"25\", \"26\", \"27\", \"28\", \"29\", \"30\", \"31\", \"32\"], \"mode\": \"lines\", \"name\": \"f1_score_weighted_max\", \"stepped\": true, \"type\": \"scatter\", \"data\": [0.7975746987299736, 0.8212145300306843, 0.8212145300306843, 0.8212145300306843, 0.8212145300306843, 0.8372639293136427, 0.8372639293136427, 0.8372639293136427, 0.8372639293136427, 0.8372639293136427, 0.8372639293136427, 0.8372639293136427, 0.8372639293136427, 0.8372639293136427, 0.8372639293136427, 0.8372639293136427, 0.8372639293136427, 0.8372639293136427, 0.8372639293136427, 0.8372639293136427, 0.8372639293136427, 0.849523631049834, 0.849523631049834, 0.849523631049834, 0.849523631049834, 0.849523631049834, 0.849523631049834, 0.849523631049834, 0.849523631049834, 0.849523631049834, 0.849523631049834, 0.849523631049834, 0.8753803023840998]}], \"average_precision_score_macro\": [{\"categories\": [\"0\", \"1\", \"2\", \"3\", \"4\", \"5\", \"6\", \"7\", \"8\", \"9\", \"10\", \"11\", \"12\", \"13\", \"14\", \"15\", \"16\", \"17\", \"18\", \"19\", \"20\", \"21\", \"22\", \"23\", \"24\", \"25\", \"26\", \"27\", \"28\", \"29\", \"30\", \"31\", \"32\"], \"mode\": \"markers\", \"name\": \"average_precision_score_macro\", \"stepped\": false, \"type\": \"scatter\", \"data\": [0.8603972381105146, 0.8901818198218845, 0.8494880346472768, 0.8332604649590749, 0.5175725516270395, 0.8905497318108111, 0.8155120584202052, 0.9006295961720422, 0.519028135553798, 0.7160371222345226, 0.8427736161190913, 0.8944500975506819, 0.8509089214439616, 0.8090062283911681, 0.7053005532181768, 0.6799607910389364, 0.7751373408533844, 0.8337536372333995, 0.8616657698779188, 0.8775003113971259, 0.8155221037022249, 0.8850461542038023, 0.8726099245469141, 0.8826406069977685, 0.8799728770303566, 0.5, 0.8587699449472878, 0.8613232189335001, 0.889240804665796, 0.846766021817092, 0.9004208633230129, 0.8770175572867325, 0.8934605327400462]}, {\"categories\": [\"0\", \"1\", \"2\", \"3\", \"4\", \"5\", \"6\", \"7\", \"8\", \"9\", \"10\", \"11\", \"12\", \"13\", \"14\", \"15\", \"16\", \"17\", \"18\", \"19\", \"20\", \"21\", \"22\", \"23\", \"24\", \"25\", \"26\", \"27\", \"28\", \"29\", \"30\", \"31\", \"32\"], \"mode\": \"lines\", \"name\": \"average_precision_score_macro_max\", \"stepped\": true, \"type\": \"scatter\", \"data\": [0.8603972381105146, 0.8901818198218845, 0.8901818198218845, 0.8901818198218845, 0.8901818198218845, 0.8905497318108111, 0.8905497318108111, 0.9006295961720422, 0.9006295961720422, 0.9006295961720422, 0.9006295961720422, 0.9006295961720422, 0.9006295961720422, 0.9006295961720422, 0.9006295961720422, 0.9006295961720422, 0.9006295961720422, 0.9006295961720422, 0.9006295961720422, 0.9006295961720422, 0.9006295961720422, 0.9006295961720422, 0.9006295961720422, 0.9006295961720422, 0.9006295961720422, 0.9006295961720422, 0.9006295961720422, 0.9006295961720422, 0.9006295961720422, 0.9006295961720422, 0.9006295961720422, 0.9006295961720422, 0.9006295961720422]}], \"recall_score_weighted\": [{\"categories\": [\"0\", \"1\", \"2\", \"3\", \"4\", \"5\", \"6\", \"7\", \"8\", \"9\", \"10\", \"11\", \"12\", \"13\", \"14\", \"15\", \"16\", \"17\", \"18\", \"19\", \"20\", \"21\", \"22\", \"23\", \"24\", \"25\", \"26\", \"27\", \"28\", \"29\", \"30\", \"31\", \"32\"], \"mode\": \"markers\", \"name\": \"recall_score_weighted\", \"stepped\": false, \"type\": \"scatter\", \"data\": [0.799290780141844, 0.8243794326241135, 0.8033687943262411, 0.7830673758865248, 0.5985815602836879, 0.8413120567375886, 0.7490248226950355, 0.8079787234042554, 0.611081560283688, 0.6863475177304965, 0.8036347517730495, 0.8328900709219859, 0.7450354609929078, 0.7156914893617021, 0.7281914893617023, 0.6990248226950355, 0.7534574468085106, 0.8074468085106383, 0.7745567375886525, 0.8327127659574469, 0.799113475177305, 0.8538120567375886, 0.8330673758865249, 0.8203900709219857, 0.8200354609929077, 0.6697695035460993, 0.812145390070922, 0.8163120567375886, 0.8372340425531913, 0.7908687943262411, 0.8455673758865249, 0.8329787234042554, 0.8790780141843971]}, {\"categories\": [\"0\", \"1\", \"2\", \"3\", \"4\", \"5\", \"6\", \"7\", \"8\", \"9\", \"10\", \"11\", \"12\", \"13\", \"14\", \"15\", \"16\", \"17\", \"18\", \"19\", \"20\", \"21\", \"22\", \"23\", \"24\", \"25\", \"26\", \"27\", \"28\", \"29\", \"30\", \"31\", \"32\"], \"mode\": \"lines\", \"name\": \"recall_score_weighted_max\", \"stepped\": true, \"type\": \"scatter\", \"data\": [0.799290780141844, 0.8243794326241135, 0.8243794326241135, 0.8243794326241135, 0.8243794326241135, 0.8413120567375886, 0.8413120567375886, 0.8413120567375886, 0.8413120567375886, 0.8413120567375886, 0.8413120567375886, 0.8413120567375886, 0.8413120567375886, 0.8413120567375886, 0.8413120567375886, 0.8413120567375886, 0.8413120567375886, 0.8413120567375886, 0.8413120567375886, 0.8413120567375886, 0.8413120567375886, 0.8538120567375886, 0.8538120567375886, 0.8538120567375886, 0.8538120567375886, 0.8538120567375886, 0.8538120567375886, 0.8538120567375886, 0.8538120567375886, 0.8538120567375886, 0.8538120567375886, 0.8538120567375886, 0.8790780141843971]}], \"accuracy\": [{\"categories\": [\"0\", \"1\", \"2\", \"3\", \"4\", \"5\", \"6\", \"7\", \"8\", \"9\", \"10\", \"11\", \"12\", \"13\", \"14\", \"15\", \"16\", \"17\", \"18\", \"19\", \"20\", \"21\", \"22\", \"23\", \"24\", \"25\", \"26\", \"27\", \"28\", \"29\", \"30\", \"31\", \"32\"], \"mode\": \"markers\", \"name\": \"accuracy\", \"stepped\": false, \"type\": \"scatter\", \"data\": [0.799290780141844, 0.8243794326241135, 0.8033687943262411, 0.7830673758865248, 0.5985815602836879, 0.8413120567375886, 0.7490248226950355, 0.8079787234042554, 0.611081560283688, 0.6863475177304965, 0.8036347517730495, 0.8328900709219859, 0.7450354609929078, 0.7156914893617021, 0.7281914893617023, 0.6990248226950355, 0.7534574468085106, 0.8074468085106383, 0.7745567375886525, 0.8327127659574469, 0.799113475177305, 0.8538120567375886, 0.8330673758865249, 0.8203900709219857, 0.8200354609929077, 0.6697695035460993, 0.812145390070922, 0.8163120567375886, 0.8372340425531913, 0.7908687943262411, 0.8455673758865249, 0.8329787234042554, 0.8790780141843971]}, {\"categories\": [\"0\", \"1\", \"2\", \"3\", \"4\", \"5\", \"6\", \"7\", \"8\", \"9\", \"10\", \"11\", \"12\", \"13\", \"14\", \"15\", \"16\", \"17\", \"18\", \"19\", \"20\", \"21\", \"22\", \"23\", \"24\", \"25\", \"26\", \"27\", \"28\", \"29\", \"30\", \"31\", \"32\"], \"mode\": \"lines\", \"name\": \"accuracy_max\", \"stepped\": true, \"type\": \"scatter\", \"data\": [0.799290780141844, 0.8243794326241135, 0.8243794326241135, 0.8243794326241135, 0.8243794326241135, 0.8413120567375886, 0.8413120567375886, 0.8413120567375886, 0.8413120567375886, 0.8413120567375886, 0.8413120567375886, 0.8413120567375886, 0.8413120567375886, 0.8413120567375886, 0.8413120567375886, 0.8413120567375886, 0.8413120567375886, 0.8413120567375886, 0.8413120567375886, 0.8413120567375886, 0.8413120567375886, 0.8538120567375886, 0.8538120567375886, 0.8538120567375886, 0.8538120567375886, 0.8538120567375886, 0.8538120567375886, 0.8538120567375886, 0.8538120567375886, 0.8538120567375886, 0.8538120567375886, 0.8538120567375886, 0.8790780141843971]}]}, \"metricName\": null, \"primaryMetricName\": \"accuracy\", \"showLegend\": false}, \"run_metrics\": [{\"name\": \"recall_score_micro\", \"run_id\": \"AutoML_c63c88b0-ddbd-4c44-a55b-60f59685204c\", \"categories\": [0], \"series\": [{\"data\": [0.8790780141843971]}]}, {\"name\": \"log_loss\", \"run_id\": \"AutoML_c63c88b0-ddbd-4c44-a55b-60f59685204c\", \"categories\": [0], \"series\": [{\"data\": [0.3960727498525687]}]}, {\"name\": \"norm_macro_recall\", \"run_id\": \"AutoML_c63c88b0-ddbd-4c44-a55b-60f59685204c\", \"categories\": [0], \"series\": [{\"data\": [0.6992983405483406]}]}, {\"name\": \"AUC_weighted\", \"run_id\": \"AutoML_c63c88b0-ddbd-4c44-a55b-60f59685204c\", \"categories\": [0], \"series\": [{\"data\": [0.9104669462481964]}]}, {\"name\": \"AUC_macro\", \"run_id\": \"AutoML_c63c88b0-ddbd-4c44-a55b-60f59685204c\", \"categories\": [0], \"series\": [{\"data\": [0.9104669462481961]}]}, {\"name\": \"weighted_accuracy\", \"run_id\": \"AutoML_c63c88b0-ddbd-4c44-a55b-60f59685204c\", \"categories\": [0], \"series\": [{\"data\": [0.9036270418991416]}]}, {\"name\": \"balanced_accuracy\", \"run_id\": \"AutoML_c63c88b0-ddbd-4c44-a55b-60f59685204c\", \"categories\": [0], \"series\": [{\"data\": [0.8496491702741704]}]}, {\"name\": \"recall_score_macro\", \"run_id\": \"AutoML_c63c88b0-ddbd-4c44-a55b-60f59685204c\", \"categories\": [0], \"series\": [{\"data\": [0.8496491702741704]}]}, {\"name\": \"average_precision_score_weighted\", \"run_id\": \"AutoML_c63c88b0-ddbd-4c44-a55b-60f59685204c\", \"categories\": [0], \"series\": [{\"data\": [0.9141537574090188]}]}, {\"name\": \"f1_score_micro\", \"run_id\": \"AutoML_c63c88b0-ddbd-4c44-a55b-60f59685204c\", \"categories\": [0], \"series\": [{\"data\": [0.8790780141843971]}]}, {\"name\": \"f1_score_macro\", \"run_id\": \"AutoML_c63c88b0-ddbd-4c44-a55b-60f59685204c\", \"categories\": [0], \"series\": [{\"data\": [0.8582691789470107]}]}, {\"name\": \"recall_score_weighted\", \"run_id\": \"AutoML_c63c88b0-ddbd-4c44-a55b-60f59685204c\", \"categories\": [0], \"series\": [{\"data\": [0.8790780141843971]}]}, {\"name\": \"f1_score_weighted\", \"run_id\": \"AutoML_c63c88b0-ddbd-4c44-a55b-60f59685204c\", \"categories\": [0], \"series\": [{\"data\": [0.8753803023840998]}]}, {\"name\": \"precision_score_weighted\", \"run_id\": \"AutoML_c63c88b0-ddbd-4c44-a55b-60f59685204c\", \"categories\": [0], \"series\": [{\"data\": [0.8823078526379527]}]}, {\"name\": \"AUC_micro\", \"run_id\": \"AutoML_c63c88b0-ddbd-4c44-a55b-60f59685204c\", \"categories\": [0], \"series\": [{\"data\": [0.9165630815854333]}]}, {\"name\": \"matthews_correlation\", \"run_id\": \"AutoML_c63c88b0-ddbd-4c44-a55b-60f59685204c\", \"categories\": [0], \"series\": [{\"data\": [0.7281638445971599]}]}, {\"name\": \"average_precision_score_micro\", \"run_id\": \"AutoML_c63c88b0-ddbd-4c44-a55b-60f59685204c\", \"categories\": [0], \"series\": [{\"data\": [0.9194086417081188]}]}, {\"name\": \"precision_score_macro\", \"run_id\": \"AutoML_c63c88b0-ddbd-4c44-a55b-60f59685204c\", \"categories\": [0], \"series\": [{\"data\": [0.8800257770846006]}]}, {\"name\": \"average_precision_score_macro\", \"run_id\": \"AutoML_c63c88b0-ddbd-4c44-a55b-60f59685204c\", \"categories\": [0], \"series\": [{\"data\": [0.8934605327400462]}]}, {\"name\": \"accuracy\", \"run_id\": \"AutoML_c63c88b0-ddbd-4c44-a55b-60f59685204c\", \"categories\": [0], \"series\": [{\"data\": [0.8790780141843971]}]}, {\"name\": \"precision_score_micro\", \"run_id\": \"AutoML_c63c88b0-ddbd-4c44-a55b-60f59685204c\", \"categories\": [0], \"series\": [{\"data\": [0.8790780141843971]}]}], \"run_logs\": \"\\nRun is completed.\", \"graph\": {}, \"widget_settings\": {\"childWidgetDisplay\": \"popup\", \"send_telemetry\": false, \"log_level\": \"INFO\", \"sdk_version\": \"1.33.0\"}, \"loading\": false}"
     },
     "metadata": {},
     "output_type": "display_data"
    }
   ],
   "source": [
    "from azureml.widgets import RunDetails\n",
    "RunDetails(remote_run).show()"
   ]
  },
  {
   "cell_type": "code",
   "execution_count": 24,
   "metadata": {},
   "outputs": [],
   "source": [
    "# !pip show azureml-core"
   ]
  },
  {
   "cell_type": "code",
   "execution_count": 18,
   "metadata": {},
   "outputs": [],
   "source": [
    "import pandas as pd"
   ]
  },
  {
   "cell_type": "code",
   "execution_count": 21,
   "metadata": {},
   "outputs": [
    {
     "name": "stdout",
     "output_type": "stream",
     "text": [
      "0.25.3\n"
     ]
    }
   ],
   "source": [
    "# print(pd.__version__)"
   ]
  },
  {
   "cell_type": "code",
   "execution_count": 22,
   "metadata": {},
   "outputs": [
    {
     "name": "stdout",
     "output_type": "stream",
     "text": [
      "Collecting pandas==0.25.1\n",
      "  Downloading pandas-0.25.1-cp36-cp36m-manylinux1_x86_64.whl (10.5 MB)\n",
      "\u001b[K     |████████████████████████████████| 10.5 MB 7.1 MB/s eta 0:00:01/s eta 0:00:01\n",
      "\u001b[?25hRequirement already satisfied, skipping upgrade: python-dateutil>=2.6.1 in /anaconda/envs/azureml_py36/lib/python3.6/site-packages (from pandas==0.25.1) (2.8.2)\n",
      "Requirement already satisfied, skipping upgrade: numpy>=1.13.3 in /anaconda/envs/azureml_py36/lib/python3.6/site-packages (from pandas==0.25.1) (1.18.5)\n",
      "Requirement already satisfied, skipping upgrade: pytz>=2017.2 in /anaconda/envs/azureml_py36/lib/python3.6/site-packages (from pandas==0.25.1) (2021.1)\n",
      "Requirement already satisfied, skipping upgrade: six>=1.5 in /anaconda/envs/azureml_py36/lib/python3.6/site-packages (from python-dateutil>=2.6.1->pandas==0.25.1) (1.16.0)\n",
      "\u001b[31mERROR: torch-tb-profiler 0.2.1 has requirement pandas>=1.0.0, but you'll have pandas 0.25.1 which is incompatible.\u001b[0m\n",
      "\u001b[31mERROR: raiwidgets 0.7.0 has requirement jinja2==2.11.3, but you'll have jinja2 2.11.2 which is incompatible.\u001b[0m\n",
      "\u001b[31mERROR: datasets 1.8.0 has requirement tqdm<4.50.0,>=4.27, but you'll have tqdm 4.61.2 which is incompatible.\u001b[0m\n",
      "\u001b[31mERROR: azureml-responsibleai 1.33.0 has requirement responsibleai~=0.9.1, but you'll have responsibleai 0.7.0 which is incompatible.\u001b[0m\n",
      "\u001b[31mERROR: azureml-opendatasets 1.33.0 has requirement scipy<=1.4.1,>=1.0.0, but you'll have scipy 1.5.2 which is incompatible.\u001b[0m\n",
      "\u001b[31mERROR: azureml-automl-dnn-nlp 1.33.0 has requirement pandas>=0.25.3, but you'll have pandas 0.25.1 which is incompatible.\u001b[0m\n",
      "\u001b[31mERROR: autokeras 1.0.15 has requirement tensorflow>=2.3.0, but you'll have tensorflow 2.1.0 which is incompatible.\u001b[0m\n",
      "Installing collected packages: pandas\n",
      "  Attempting uninstall: pandas\n",
      "    Found existing installation: pandas 0.25.3\n",
      "    Uninstalling pandas-0.25.3:\n",
      "      Successfully uninstalled pandas-0.25.3\n",
      "Successfully installed pandas-0.25.1\n"
     ]
    }
   ],
   "source": [
    "# !pip install --upgrade pandas==0.25.1"
   ]
  },
  {
   "cell_type": "code",
   "execution_count": 23,
   "metadata": {},
   "outputs": [
    {
     "name": "stdout",
     "output_type": "stream",
     "text": [
      "Collecting scikit-learn==0.22.1\n",
      "  Downloading scikit_learn-0.22.1-cp36-cp36m-manylinux1_x86_64.whl (7.0 MB)\n",
      "\u001b[K     |████████████████████████████████| 7.0 MB 6.7 MB/s eta 0:00:01\n",
      "\u001b[?25hRequirement already satisfied, skipping upgrade: numpy>=1.11.0 in /anaconda/envs/azureml_py36/lib/python3.6/site-packages (from scikit-learn==0.22.1) (1.18.5)\n",
      "Requirement already satisfied, skipping upgrade: scipy>=0.17.0 in /anaconda/envs/azureml_py36/lib/python3.6/site-packages (from scikit-learn==0.22.1) (1.5.2)\n",
      "Requirement already satisfied, skipping upgrade: joblib>=0.11 in /anaconda/envs/azureml_py36/lib/python3.6/site-packages (from scikit-learn==0.22.1) (0.14.1)\n",
      "\u001b[31mERROR: raiwidgets 0.7.0 has requirement jinja2==2.11.3, but you'll have jinja2 2.11.2 which is incompatible.\u001b[0m\n",
      "\u001b[31mERROR: azureml-responsibleai 1.33.0 has requirement responsibleai~=0.9.1, but you'll have responsibleai 0.7.0 which is incompatible.\u001b[0m\n",
      "\u001b[31mERROR: azureml-automl-dnn-nlp 1.33.0 has requirement pandas>=0.25.3, but you'll have pandas 0.25.1 which is incompatible.\u001b[0m\n",
      "\u001b[31mERROR: azureml-automl-dnn-nlp 1.33.0 has requirement scikit-learn>=0.22.2, but you'll have scikit-learn 0.22.1 which is incompatible.\u001b[0m\n",
      "\u001b[31mERROR: autokeras 1.0.15 has requirement tensorflow>=2.3.0, but you'll have tensorflow 2.1.0 which is incompatible.\u001b[0m\n",
      "Installing collected packages: scikit-learn\n",
      "  Attempting uninstall: scikit-learn\n",
      "    Found existing installation: scikit-learn 0.22.2.post1\n",
      "    Uninstalling scikit-learn-0.22.2.post1:\n",
      "      Successfully uninstalled scikit-learn-0.22.2.post1\n",
      "Successfully installed scikit-learn-0.22.1\n"
     ]
    }
   ],
   "source": [
    "# !pip install --upgrade scikit-learn==0.22.1"
   ]
  },
  {
   "cell_type": "markdown",
   "metadata": {},
   "source": [
    "## Best Model\n",
    "\n",
    "TODO: In the cell below, get the best model from the automl experiments and display all the properties of the model.\n",
    "\n"
   ]
  },
  {
   "cell_type": "code",
   "execution_count": 25,
   "metadata": {
    "gather": {
     "logged": 1598431425670
    },
    "jupyter": {
     "outputs_hidden": false,
     "source_hidden": false
    },
    "nteract": {
     "transient": {
      "deleting": false
     }
    }
   },
   "outputs": [
    {
     "data": {
      "text/plain": [
       "Pipeline(memory=None,\n",
       "         steps=[('datatransformer',\n",
       "                 DataTransformer(enable_dnn=False, enable_feature_sweeping=True, feature_sweeping_config={}, feature_sweeping_timeout=86400, featurization_config=None, force_text_dnn=False, is_cross_validation=True, is_onnx_compatible=False, observer=None, task='classification', working_dir='/mnt/batch/tasks/shared/LS_root/mount...\n",
       "), random_state=0, reg_alpha=1.25, reg_lambda=0.8333333333333334, subsample=0.6, tree_method='auto'))], verbose=False)), ('26', Pipeline(memory=None, steps=[('sparsenormalizer', Normalizer(copy=True, norm='l1')), ('xgboostclassifier', XGBoostClassifier(booster='gbtree', colsample_bylevel=1, colsample_bytree=1, eta=0.5, gamma=0.01, max_depth=7, max_leaves=15, n_estimators=100, n_jobs=1, objective='reg:logistic', problem_info=ProblemInfo(\n",
       "    gpu_training_param_dict={'processing_unit_type': 'cpu'}\n",
       "), random_state=0, reg_alpha=0.5208333333333334, reg_lambda=2.291666666666667, subsample=1, tree_method='auto'))], verbose=False))], flatten_transform=None, weights=[0.2, 0.2, 0.1, 0.1, 0.1, 0.1, 0.2]))],\n",
       "         verbose=False)"
      ]
     },
     "execution_count": 25,
     "metadata": {},
     "output_type": "execute_result"
    }
   ],
   "source": [
    "best_run, best_model = remote_run.get_output()\n",
    "best_model"
   ]
  },
  {
   "cell_type": "code",
   "execution_count": 26,
   "metadata": {
    "gather": {
     "logged": 1598431426111
    },
    "jupyter": {
     "outputs_hidden": false,
     "source_hidden": false
    },
    "nteract": {
     "transient": {
      "deleting": false
     }
    }
   },
   "outputs": [
    {
     "data": {
      "text/html": [
       "<table style=\"width:100%\"><tr><th>Experiment</th><th>Id</th><th>Type</th><th>Status</th><th>Details Page</th><th>Docs Page</th></tr><tr><td>CapstoneProject</td><td>AutoML_c63c88b0-ddbd-4c44-a55b-60f59685204c_32</td><td></td><td>Completed</td><td><a href=\"https://ml.azure.com/runs/AutoML_c63c88b0-ddbd-4c44-a55b-60f59685204c_32?wsid=/subscriptions/9b72f9e6-56c5-4c16-991b-19c652994860/resourcegroups/aml-quickstarts-155638/workspaces/quick-starts-ws-155638&amp;tid=660b3398-b80e-49d2-bc5b-ac1dc93b5254\" target=\"_blank\" rel=\"noopener\">Link to Azure Machine Learning studio</a></td><td><a href=\"https://docs.microsoft.com/en-us/python/api/azureml-core/azureml.core.run.Run?view=azure-ml-py\" target=\"_blank\" rel=\"noopener\">Link to Documentation</a></td></tr></table>"
      ],
      "text/plain": [
       "Run(Experiment: CapstoneProject,\n",
       "Id: AutoML_c63c88b0-ddbd-4c44-a55b-60f59685204c_32,\n",
       "Type: None,\n",
       "Status: Completed)"
      ]
     },
     "execution_count": 26,
     "metadata": {},
     "output_type": "execute_result"
    }
   ],
   "source": [
    "#TODO: Save the best model\n",
    "best_run"
   ]
  },
  {
   "cell_type": "code",
   "execution_count": 28,
   "metadata": {},
   "outputs": [],
   "source": [
    "best_model= best_run.register_model(model_path='outputs/model.pkl',model_name='model_Automl',tags={'training context':'automl'},\n",
    "                        properties={'Accuracy':best_run.get_metrics()['accuracy']})"
   ]
  },
  {
   "cell_type": "markdown",
   "metadata": {},
   "source": [
    "## Model Deployment\n",
    "\n",
    "Remember you have to deploy only one of the two models you trained.. Perform the steps in the rest of this notebook only if you wish to deploy this model.\n",
    "\n",
    "TODO: In the cell below, register the model, create an inference config and deploy the model as a web service."
   ]
  },
  {
   "cell_type": "code",
   "execution_count": 29,
   "metadata": {},
   "outputs": [],
   "source": [
    "best_run.download_file('outputs/scoring_file_v_1_0_0.py', 'score.py')"
   ]
  },
  {
   "cell_type": "code",
   "execution_count": 30,
   "metadata": {},
   "outputs": [],
   "source": [
    "best_run.download_file('outputs/conda_env_v_1_0_0.yml', 'envFile.yml')"
   ]
  },
  {
   "cell_type": "code",
   "execution_count": 39,
   "metadata": {},
   "outputs": [
    {
     "data": {
      "text/plain": [
       "{'balanced_accuracy': 0.8496491702741704,\n",
       " 'precision_score_macro': 0.8800257770846006,\n",
       " 'average_precision_score_weighted': 0.9141537574090188,\n",
       " 'weighted_accuracy': 0.9036270418991416,\n",
       " 'matthews_correlation': 0.7281638445971599,\n",
       " 'AUC_macro': 0.9104669462481961,\n",
       " 'precision_score_micro': 0.8790780141843971,\n",
       " 'precision_score_weighted': 0.8823078526379527,\n",
       " 'f1_score_macro': 0.8582691789470107,\n",
       " 'recall_score_macro': 0.8496491702741704,\n",
       " 'AUC_weighted': 0.9104669462481964,\n",
       " 'recall_score_micro': 0.8790780141843971,\n",
       " 'f1_score_micro': 0.8790780141843971,\n",
       " 'norm_macro_recall': 0.6992983405483406,\n",
       " 'log_loss': 0.3960727498525687,\n",
       " 'AUC_micro': 0.9165630815854333,\n",
       " 'average_precision_score_micro': 0.9194086417081188,\n",
       " 'f1_score_weighted': 0.8753803023840998,\n",
       " 'average_precision_score_macro': 0.8934605327400462,\n",
       " 'recall_score_weighted': 0.8790780141843971,\n",
       " 'accuracy': 0.8790780141843971,\n",
       " 'accuracy_table': 'aml://artifactId/ExperimentRun/dcid.AutoML_c63c88b0-ddbd-4c44-a55b-60f59685204c_32/accuracy_table',\n",
       " 'confusion_matrix': 'aml://artifactId/ExperimentRun/dcid.AutoML_c63c88b0-ddbd-4c44-a55b-60f59685204c_32/confusion_matrix'}"
      ]
     },
     "execution_count": 39,
     "metadata": {},
     "output_type": "execute_result"
    }
   ],
   "source": [
    "best_run.get_metrics()"
   ]
  },
  {
   "cell_type": "code",
   "execution_count": 50,
   "metadata": {},
   "outputs": [
    {
     "ename": "Exception",
     "evalue": "Error retrieving the environment definition. Code: 404\n: {\n  \"error\": {\n    \"code\": \"UserError\",\n    \"severity\": null,\n    \"message\": \"No definitions exist for environment southcentralus\",\n    \"messageFormat\": null,\n    \"messageParameters\": null,\n    \"referenceCode\": null,\n    \"detailsUri\": null,\n    \"target\": null,\n    \"details\": [],\n    \"innerError\": {\n      \"code\": \"NotFoundError\",\n      \"innerError\": null\n    },\n    \"debugInfo\": null,\n    \"additionalInfo\": null\n  },\n  \"correlation\": {\n    \"operation\": \"59de2699bad2ee41ba72f535a9974be4\",\n    \"request\": \"2e741e596c6eb34d\"\n  },\n  \"environment\": \"southcentralus\",\n  \"location\": \"southcentralus\",\n  \"time\": \"2021-08-24T18:28:50.0939121+00:00\",\n  \"componentName\": \"environment-management\"\n}",
     "output_type": "error",
     "traceback": [
      "\u001b[0;31m---------------------------------------------------------------------------\u001b[0m",
      "\u001b[0;31mException\u001b[0m                                 Traceback (most recent call last)",
      "\u001b[0;32m<ipython-input-50-e2c746ac0a8f>\u001b[0m in \u001b[0;36m<module>\u001b[0;34m\u001b[0m\n\u001b[1;32m      1\u001b[0m \u001b[0;32mfrom\u001b[0m \u001b[0mazureml\u001b[0m\u001b[0;34m.\u001b[0m\u001b[0mcore\u001b[0m \u001b[0;32mimport\u001b[0m \u001b[0mEnvironment\u001b[0m\u001b[0;34m\u001b[0m\u001b[0;34m\u001b[0m\u001b[0m\n\u001b[0;32m----> 2\u001b[0;31m \u001b[0menv\u001b[0m \u001b[0;34m=\u001b[0m \u001b[0mEnvironment\u001b[0m\u001b[0;34m.\u001b[0m\u001b[0mget\u001b[0m\u001b[0;34m(\u001b[0m\u001b[0mws\u001b[0m\u001b[0;34m,\u001b[0m \u001b[0mname\u001b[0m \u001b[0;34m=\u001b[0m \u001b[0;34m\"southcentralus\"\u001b[0m\u001b[0;34m)\u001b[0m\u001b[0;34m\u001b[0m\u001b[0;34m\u001b[0m\u001b[0m\n\u001b[0m",
      "\u001b[0;32m/anaconda/envs/azureml_py36/lib/python3.6/site-packages/azureml/core/environment.py\u001b[0m in \u001b[0;36mget\u001b[0;34m(workspace, name, version, label)\u001b[0m\n\u001b[1;32m    963\u001b[0m             \u001b[0menvironment_dict\u001b[0m \u001b[0;34m=\u001b[0m \u001b[0menvironment_client\u001b[0m\u001b[0;34m.\u001b[0m\u001b[0m_get_environment_definition_by_label\u001b[0m\u001b[0;34m(\u001b[0m\u001b[0mname\u001b[0m\u001b[0;34m=\u001b[0m\u001b[0mname\u001b[0m\u001b[0;34m,\u001b[0m \u001b[0mlabel\u001b[0m\u001b[0;34m=\u001b[0m\u001b[0mlabel\u001b[0m\u001b[0;34m)\u001b[0m\u001b[0;34m\u001b[0m\u001b[0;34m\u001b[0m\u001b[0m\n\u001b[1;32m    964\u001b[0m         \u001b[0;32melse\u001b[0m\u001b[0;34m:\u001b[0m\u001b[0;34m\u001b[0m\u001b[0;34m\u001b[0m\u001b[0m\n\u001b[0;32m--> 965\u001b[0;31m             \u001b[0menvironment_dict\u001b[0m \u001b[0;34m=\u001b[0m \u001b[0menvironment_client\u001b[0m\u001b[0;34m.\u001b[0m\u001b[0m_get_environment_definition\u001b[0m\u001b[0;34m(\u001b[0m\u001b[0mname\u001b[0m\u001b[0;34m=\u001b[0m\u001b[0mname\u001b[0m\u001b[0;34m,\u001b[0m \u001b[0mversion\u001b[0m\u001b[0;34m=\u001b[0m\u001b[0mversion\u001b[0m\u001b[0;34m)\u001b[0m\u001b[0;34m\u001b[0m\u001b[0;34m\u001b[0m\u001b[0m\n\u001b[0m\u001b[1;32m    966\u001b[0m         \u001b[0menv\u001b[0m \u001b[0;34m=\u001b[0m \u001b[0mEnvironment\u001b[0m\u001b[0;34m.\u001b[0m\u001b[0m_deserialize_and_add_to_object\u001b[0m\u001b[0;34m(\u001b[0m\u001b[0menvironment_dict\u001b[0m\u001b[0;34m)\u001b[0m\u001b[0;34m\u001b[0m\u001b[0;34m\u001b[0m\u001b[0m\n\u001b[1;32m    967\u001b[0m \u001b[0;34m\u001b[0m\u001b[0m\n",
      "\u001b[0;32m/anaconda/envs/azureml_py36/lib/python3.6/site-packages/azureml/_restclient/environment_client.py\u001b[0m in \u001b[0;36m_get_environment_definition\u001b[0;34m(self, name, version)\u001b[0m\n\u001b[1;32m     43\u001b[0m             message = \"Error retrieving the environment definition. Code: {}\\n: {}\".format(response.status_code,\n\u001b[1;32m     44\u001b[0m                                                                                            response.text)\n\u001b[0;32m---> 45\u001b[0;31m             \u001b[0;32mraise\u001b[0m \u001b[0mException\u001b[0m\u001b[0;34m(\u001b[0m\u001b[0mmessage\u001b[0m\u001b[0;34m)\u001b[0m\u001b[0;34m\u001b[0m\u001b[0;34m\u001b[0m\u001b[0m\n\u001b[0m\u001b[1;32m     46\u001b[0m \u001b[0;34m\u001b[0m\u001b[0m\n\u001b[1;32m     47\u001b[0m     \u001b[0;32mdef\u001b[0m \u001b[0m_get_environment_definition_by_label\u001b[0m\u001b[0;34m(\u001b[0m\u001b[0mself\u001b[0m\u001b[0;34m,\u001b[0m \u001b[0mname\u001b[0m\u001b[0;34m,\u001b[0m \u001b[0mlabel\u001b[0m\u001b[0;34m)\u001b[0m\u001b[0;34m:\u001b[0m\u001b[0;34m\u001b[0m\u001b[0;34m\u001b[0m\u001b[0m\n",
      "\u001b[0;31mException\u001b[0m: Error retrieving the environment definition. Code: 404\n: {\n  \"error\": {\n    \"code\": \"UserError\",\n    \"severity\": null,\n    \"message\": \"No definitions exist for environment southcentralus\",\n    \"messageFormat\": null,\n    \"messageParameters\": null,\n    \"referenceCode\": null,\n    \"detailsUri\": null,\n    \"target\": null,\n    \"details\": [],\n    \"innerError\": {\n      \"code\": \"NotFoundError\",\n      \"innerError\": null\n    },\n    \"debugInfo\": null,\n    \"additionalInfo\": null\n  },\n  \"correlation\": {\n    \"operation\": \"59de2699bad2ee41ba72f535a9974be4\",\n    \"request\": \"2e741e596c6eb34d\"\n  },\n  \"environment\": \"southcentralus\",\n  \"location\": \"southcentralus\",\n  \"time\": \"2021-08-24T18:28:50.0939121+00:00\",\n  \"componentName\": \"environment-management\"\n}"
     ]
    }
   ],
   "source": [
    "from azureml.core import Environment\n",
    "env = Environment.get(ws, name = \"southcentralus\")"
   ]
  },
  {
   "cell_type": "code",
   "execution_count": 35,
   "metadata": {},
   "outputs": [
    {
     "ename": "UserErrorException",
     "evalue": "UserErrorException:\n\tMessage: There is no run definition or environment specified for the run.\n\tInnerException None\n\tErrorResponse \n{\n    \"error\": {\n        \"code\": \"UserError\",\n        \"message\": \"There is no run definition or environment specified for the run.\"\n    }\n}",
     "output_type": "error",
     "traceback": [
      "\u001b[0;31m---------------------------------------------------------------------------\u001b[0m",
      "\u001b[0;31mUserErrorException\u001b[0m                        Traceback (most recent call last)",
      "\u001b[0;32m<ipython-input-35-6fc431c81111>\u001b[0m in \u001b[0;36m<module>\u001b[0;34m\u001b[0m\n\u001b[1;32m      6\u001b[0m \u001b[0;34m\u001b[0m\u001b[0m\n\u001b[1;32m      7\u001b[0m \u001b[0;31m# Combine scoring script & environment in Inference configuration\u001b[0m\u001b[0;34m\u001b[0m\u001b[0;34m\u001b[0m\u001b[0;34m\u001b[0m\u001b[0m\n\u001b[0;32m----> 8\u001b[0;31m \u001b[0menvironment\u001b[0m \u001b[0;34m=\u001b[0m \u001b[0mbest_run\u001b[0m\u001b[0;34m.\u001b[0m\u001b[0mget_context\u001b[0m\u001b[0;34m(\u001b[0m\u001b[0;34m)\u001b[0m\u001b[0;34m.\u001b[0m\u001b[0mget_environment\u001b[0m\u001b[0;34m(\u001b[0m\u001b[0;34m)\u001b[0m\u001b[0;34m\u001b[0m\u001b[0;34m\u001b[0m\u001b[0m\n\u001b[0m\u001b[1;32m      9\u001b[0m \u001b[0minference_config\u001b[0m \u001b[0;34m=\u001b[0m \u001b[0mInferenceConfig\u001b[0m\u001b[0;34m(\u001b[0m\u001b[0mentry_script\u001b[0m\u001b[0;34m=\u001b[0m\u001b[0;34m'score.py'\u001b[0m\u001b[0;34m,\u001b[0m \u001b[0menvironment\u001b[0m\u001b[0;34m=\u001b[0m\u001b[0menvironment\u001b[0m\u001b[0;34m)\u001b[0m\u001b[0;34m\u001b[0m\u001b[0;34m\u001b[0m\u001b[0m\n\u001b[1;32m     10\u001b[0m \u001b[0;31m# Set deployment configuration\u001b[0m\u001b[0;34m\u001b[0m\u001b[0;34m\u001b[0m\u001b[0;34m\u001b[0m\u001b[0m\n",
      "\u001b[0;32m/anaconda/envs/azureml_py36/lib/python3.6/site-packages/azureml/core/run.py\u001b[0m in \u001b[0;36mget_environment\u001b[0;34m(self)\u001b[0m\n\u001b[1;32m   1134\u001b[0m         \u001b[0mrun_def\u001b[0m \u001b[0;34m=\u001b[0m \u001b[0mrun_details\u001b[0m\u001b[0;34m.\u001b[0m\u001b[0mget\u001b[0m\u001b[0;34m(\u001b[0m\u001b[0;34m\"runDefinition\"\u001b[0m\u001b[0;34m)\u001b[0m\u001b[0;34m\u001b[0m\u001b[0;34m\u001b[0m\u001b[0m\n\u001b[1;32m   1135\u001b[0m         \u001b[0;32mif\u001b[0m \u001b[0mrun_def\u001b[0m \u001b[0;32mis\u001b[0m \u001b[0;32mNone\u001b[0m\u001b[0;34m:\u001b[0m\u001b[0;34m\u001b[0m\u001b[0;34m\u001b[0m\u001b[0m\n\u001b[0;32m-> 1136\u001b[0;31m             \u001b[0;32mraise\u001b[0m \u001b[0mUserErrorException\u001b[0m\u001b[0;34m(\u001b[0m\u001b[0;34m\"There is no run definition or environment specified for the run.\"\u001b[0m\u001b[0;34m)\u001b[0m\u001b[0;34m\u001b[0m\u001b[0;34m\u001b[0m\u001b[0m\n\u001b[0m\u001b[1;32m   1137\u001b[0m \u001b[0;34m\u001b[0m\u001b[0m\n\u001b[1;32m   1138\u001b[0m         \u001b[0;31m# For parent run there can be a case when there is no environment\u001b[0m\u001b[0;34m\u001b[0m\u001b[0;34m\u001b[0m\u001b[0;34m\u001b[0m\u001b[0m\n",
      "\u001b[0;31mUserErrorException\u001b[0m: UserErrorException:\n\tMessage: There is no run definition or environment specified for the run.\n\tInnerException None\n\tErrorResponse \n{\n    \"error\": {\n        \"code\": \"UserError\",\n        \"message\": \"There is no run definition or environment specified for the run.\"\n    }\n}"
     ]
    }
   ],
   "source": [
    "from azureml.core.model import InferenceConfig, Model\n",
    "from azureml.core.webservice import AciWebservice, Webservice\n",
    "\n",
    "# Register the model to deploy\n",
    "# model = run.register_model(model_name = \"heartfailuremodel\", model_path = \"heart_failure_model.pkl\")\n",
    "\n",
    "# Combine scoring script & environment in Inference configuration\n",
    "\n",
    "inference_config = InferenceConfig(entry_script='score.py', environment=environment)\n",
    "# Set deployment configuration\n",
    "deployment_config = AciWebservice.deploy_configuration(cpu_cores = 1,\n",
    "                                                       memory_gb = 1,\n",
    "                                                      auth_enabled=True)\n",
    "\n",
    "# Define the model, inference, & deployment configuration and web service name and location to deploy\n",
    "service = Model.deploy(workspace = ws,\n",
    "                       name = \"my_web_service\",\n",
    "                       models = [best_model],\n",
    "                       inference_config = inference_config,\n",
    "                       deployment_config = deployment_config,\n",
    "                      overwrite=True)"
   ]
  },
  {
   "cell_type": "code",
   "execution_count": null,
   "metadata": {},
   "outputs": [],
   "source": []
  },
  {
   "cell_type": "code",
   "execution_count": null,
   "metadata": {
    "gather": {
     "logged": 1598431435189
    },
    "jupyter": {
     "outputs_hidden": false,
     "source_hidden": false
    },
    "nteract": {
     "transient": {
      "deleting": false
     }
    }
   },
   "outputs": [],
   "source": [
    "service = Model.deploy(ws, \"myservice\", [model], inference_config, deployment_config)\n",
    "service.wait_for_deployment(show_output = True)\n",
    "print(service.scoring_uri)\n",
    "print(service.swagger_uri)"
   ]
  },
  {
   "cell_type": "markdown",
   "metadata": {
    "collapsed": true,
    "gather": {
     "logged": 1598431657736
    },
    "jupyter": {
     "outputs_hidden": false,
     "source_hidden": false
    },
    "nteract": {
     "transient": {
      "deleting": false
     }
    }
   },
   "source": [
    "TODO: In the cell below, send a request to the web service you deployed to test it."
   ]
  },
  {
   "cell_type": "code",
   "execution_count": null,
   "metadata": {
    "gather": {
     "logged": 1598432707604
    },
    "jupyter": {
     "outputs_hidden": false,
     "source_hidden": false
    },
    "nteract": {
     "transient": {
      "deleting": false
     }
    }
   },
   "outputs": [],
   "source": []
  },
  {
   "cell_type": "markdown",
   "metadata": {
    "collapsed": true,
    "gather": {
     "logged": 1598432765711
    },
    "jupyter": {
     "outputs_hidden": false,
     "source_hidden": false
    },
    "nteract": {
     "transient": {
      "deleting": false
     }
    }
   },
   "source": [
    "TODO: In the cell below, print the logs of the web service and delete the service"
   ]
  },
  {
   "cell_type": "code",
   "execution_count": null,
   "metadata": {
    "jupyter": {
     "outputs_hidden": false,
     "source_hidden": false
    },
    "nteract": {
     "transient": {
      "deleting": false
     }
    }
   },
   "outputs": [],
   "source": []
  }
 ],
 "metadata": {
  "kernel_info": {
   "name": "python3-azureml"
  },
  "kernelspec": {
   "display_name": "Python 3",
   "language": "python",
   "name": "python3"
  },
  "language_info": {
   "codemirror_mode": {
    "name": "ipython",
    "version": 3
   },
   "file_extension": ".py",
   "mimetype": "text/x-python",
   "name": "python",
   "nbconvert_exporter": "python",
   "pygments_lexer": "ipython3",
   "version": "3.6.9"
  },
  "nteract": {
   "version": "nteract-front-end@1.0.0"
  }
 },
 "nbformat": 4,
 "nbformat_minor": 2
}
